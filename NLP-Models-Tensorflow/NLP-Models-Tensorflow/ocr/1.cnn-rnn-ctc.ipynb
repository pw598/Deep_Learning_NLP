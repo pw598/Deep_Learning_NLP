{
 "cells": [
  {
   "cell_type": "code",
   "execution_count": 1,
   "metadata": {},
   "outputs": [],
   "source": [
    "# !wget http://baidudeeplearning.bj.bcebos.com/image_contest_level_1.tar.gz\n",
    "# !tar -zxf image_contest_level_1.tar.gz"
   ]
  },
  {
   "cell_type": "code",
   "execution_count": 2,
   "metadata": {},
   "outputs": [
    {
     "name": "stderr",
     "output_type": "stream",
     "text": [
      "/home/husein/.local/lib/python3.6/site-packages/tensorflow/python/framework/dtypes.py:516: FutureWarning: Passing (type, 1) or '1type' as a synonym of type is deprecated; in a future version of numpy, it will be understood as (type, (1,)) / '(1,)type'.\n",
      "  _np_qint8 = np.dtype([(\"qint8\", np.int8, 1)])\n",
      "/home/husein/.local/lib/python3.6/site-packages/tensorflow/python/framework/dtypes.py:517: FutureWarning: Passing (type, 1) or '1type' as a synonym of type is deprecated; in a future version of numpy, it will be understood as (type, (1,)) / '(1,)type'.\n",
      "  _np_quint8 = np.dtype([(\"quint8\", np.uint8, 1)])\n",
      "/home/husein/.local/lib/python3.6/site-packages/tensorflow/python/framework/dtypes.py:518: FutureWarning: Passing (type, 1) or '1type' as a synonym of type is deprecated; in a future version of numpy, it will be understood as (type, (1,)) / '(1,)type'.\n",
      "  _np_qint16 = np.dtype([(\"qint16\", np.int16, 1)])\n",
      "/home/husein/.local/lib/python3.6/site-packages/tensorflow/python/framework/dtypes.py:519: FutureWarning: Passing (type, 1) or '1type' as a synonym of type is deprecated; in a future version of numpy, it will be understood as (type, (1,)) / '(1,)type'.\n",
      "  _np_quint16 = np.dtype([(\"quint16\", np.uint16, 1)])\n",
      "/home/husein/.local/lib/python3.6/site-packages/tensorflow/python/framework/dtypes.py:520: FutureWarning: Passing (type, 1) or '1type' as a synonym of type is deprecated; in a future version of numpy, it will be understood as (type, (1,)) / '(1,)type'.\n",
      "  _np_qint32 = np.dtype([(\"qint32\", np.int32, 1)])\n",
      "/home/husein/.local/lib/python3.6/site-packages/tensorflow/python/framework/dtypes.py:525: FutureWarning: Passing (type, 1) or '1type' as a synonym of type is deprecated; in a future version of numpy, it will be understood as (type, (1,)) / '(1,)type'.\n",
      "  np_resource = np.dtype([(\"resource\", np.ubyte, 1)])\n",
      "/home/husein/.local/lib/python3.6/site-packages/tensorboard/compat/tensorflow_stub/dtypes.py:541: FutureWarning: Passing (type, 1) or '1type' as a synonym of type is deprecated; in a future version of numpy, it will be understood as (type, (1,)) / '(1,)type'.\n",
      "  _np_qint8 = np.dtype([(\"qint8\", np.int8, 1)])\n",
      "/home/husein/.local/lib/python3.6/site-packages/tensorboard/compat/tensorflow_stub/dtypes.py:542: FutureWarning: Passing (type, 1) or '1type' as a synonym of type is deprecated; in a future version of numpy, it will be understood as (type, (1,)) / '(1,)type'.\n",
      "  _np_quint8 = np.dtype([(\"quint8\", np.uint8, 1)])\n",
      "/home/husein/.local/lib/python3.6/site-packages/tensorboard/compat/tensorflow_stub/dtypes.py:543: FutureWarning: Passing (type, 1) or '1type' as a synonym of type is deprecated; in a future version of numpy, it will be understood as (type, (1,)) / '(1,)type'.\n",
      "  _np_qint16 = np.dtype([(\"qint16\", np.int16, 1)])\n",
      "/home/husein/.local/lib/python3.6/site-packages/tensorboard/compat/tensorflow_stub/dtypes.py:544: FutureWarning: Passing (type, 1) or '1type' as a synonym of type is deprecated; in a future version of numpy, it will be understood as (type, (1,)) / '(1,)type'.\n",
      "  _np_quint16 = np.dtype([(\"quint16\", np.uint16, 1)])\n",
      "/home/husein/.local/lib/python3.6/site-packages/tensorboard/compat/tensorflow_stub/dtypes.py:545: FutureWarning: Passing (type, 1) or '1type' as a synonym of type is deprecated; in a future version of numpy, it will be understood as (type, (1,)) / '(1,)type'.\n",
      "  _np_qint32 = np.dtype([(\"qint32\", np.int32, 1)])\n",
      "/home/husein/.local/lib/python3.6/site-packages/tensorboard/compat/tensorflow_stub/dtypes.py:550: FutureWarning: Passing (type, 1) or '1type' as a synonym of type is deprecated; in a future version of numpy, it will be understood as (type, (1,)) / '(1,)type'.\n",
      "  np_resource = np.dtype([(\"resource\", np.ubyte, 1)])\n"
     ]
    }
   ],
   "source": [
    "import numpy as np\n",
    "import os\n",
    "import tensorflow as tf\n",
    "import matplotlib.pyplot as plt\n",
    "from skimage.transform import resize as imresize\n",
    "import cv2\n",
    "import time"
   ]
  },
  {
   "cell_type": "code",
   "execution_count": 3,
   "metadata": {},
   "outputs": [
    {
     "data": {
      "text/plain": [
       "100000"
      ]
     },
     "execution_count": 3,
     "metadata": {},
     "output_type": "execute_result"
    }
   ],
   "source": [
    "directory = 'image_contest_level_1/'\n",
    "images = ['%d.png'%(d) for d in range(100000)]\n",
    "with open(directory+'labels.txt','r') as fopen:\n",
    "    labels = [i.split()[0] for i in list(filter(None,fopen.read().split('\\n')))]\n",
    "len(images)\n",
    "len(labels)"
   ]
  },
  {
   "cell_type": "code",
   "execution_count": 4,
   "metadata": {},
   "outputs": [
    {
     "data": {
      "image/png": "[encoded data removed]",
      "text/plain": [
       "<Figure size 432x288 with 1 Axes>"
      ]
     },
     "metadata": {
      "needs_background": "light"
     },
     "output_type": "display_data"
    }
   ],
   "source": [
    "plt.imshow(cv2.imread(directory+images[0], 0).astype(np.float32)/255.)\n",
    "plt.title(labels[0])\n",
    "plt.show()"
   ]
  },
  {
   "cell_type": "code",
   "execution_count": 5,
   "metadata": {},
   "outputs": [],
   "source": [
    "charset = '0123456789+-*()'\n",
    "num_classes = len(charset) + 2\n",
    "encode_maps = {}\n",
    "decode_maps = {}\n",
    "for i, char in enumerate(charset, 1):\n",
    "    encode_maps[char] = i\n",
    "    decode_maps[i] = char\n",
    "\n",
    "SPACE_INDEX = 0\n",
    "SPACE_TOKEN = ''\n",
    "encode_maps[SPACE_TOKEN] = SPACE_INDEX\n",
    "decode_maps[SPACE_INDEX] = SPACE_TOKEN"
   ]
  },
  {
   "cell_type": "code",
   "execution_count": 6,
   "metadata": {},
   "outputs": [],
   "source": [
    "image_height = 60\n",
    "image_width = 240\n",
    "image_channel = 1\n",
    "max_stepsize = 128\n",
    "num_hidden = 256\n",
    "epoch = 20\n",
    "batch_size = 128\n",
    "initial_learning_rate = 1e-3"
   ]
  },
  {
   "cell_type": "code",
   "execution_count": 7,
   "metadata": {},
   "outputs": [],
   "source": [
    "def pad_second_dim(x, desired_size):\n",
    "    padding = tf.tile([[0]], tf.stack([tf.shape(x)[0], desired_size - tf.shape(x)[1]], 0))\n",
    "    return tf.concat([x, padding], 1)\n",
    "\n",
    "class Model:\n",
    "    def __init__(self):\n",
    "        self.X = tf.placeholder(tf.float32, [None, image_height, image_width, image_channel])\n",
    "        self.Y = tf.sparse_placeholder(tf.int32)\n",
    "        self.SEQ_LEN = tf.placeholder(tf.int32, [None])\n",
    "        self.label = tf.placeholder(tf.int32, [None, None])\n",
    "        self.Y_seq_len = tf.placeholder(tf.int32, [None])\n",
    "        batch_size = tf.shape(self.X)[0]\n",
    "        filters = [64, 128, 128, max_stepsize]\n",
    "        strides = [1, 2]\n",
    "        x = self.conv2d(self.X, 'cnn-1', 3, 1, filters[0], strides[0])\n",
    "        x = self.batch_norm('bn1', x)\n",
    "        x = self.leaky_relu(x, 0.01)\n",
    "        x = self.max_pool(x, 2, strides[1])\n",
    "        x = self.conv2d(x, 'cnn-2', 3, filters[0], filters[1], strides[0])\n",
    "        x = self.batch_norm('bn2', x)\n",
    "        x = self.leaky_relu(x, 0.01)\n",
    "        x = self.max_pool(x, 2, strides[1])\n",
    "        x = self.conv2d(x, 'cnn-3', 3, filters[1], filters[2], strides[0])\n",
    "        x = self.batch_norm('bn3', x)\n",
    "        x = self.leaky_relu(x, 0.01)\n",
    "        x = self.max_pool(x, 2, strides[1])\n",
    "        x = self.conv2d(x, 'cnn-4', 3, filters[2], filters[3], strides[0])\n",
    "        x = self.batch_norm('bn4', x)\n",
    "        x = self.leaky_relu(x, 0.01)\n",
    "        x = self.max_pool(x, 2, strides[1])\n",
    "        x = tf.reshape(x, [batch_size, -1, filters[3]])\n",
    "        x = tf.transpose(x, [0, 2, 1])\n",
    "        x = tf.reshape(x, [batch_size, filters[3], 4 * 15])\n",
    "        cell = tf.contrib.rnn.LSTMCell(num_hidden)\n",
    "        cell1 = tf.contrib.rnn.LSTMCell(num_hidden)\n",
    "        stack = tf.contrib.rnn.MultiRNNCell([cell, cell1])\n",
    "        outputs, _ = tf.nn.dynamic_rnn(stack, x, self.SEQ_LEN, dtype=tf.float32)\n",
    "        outputs = tf.reshape(outputs, [-1, num_hidden])\n",
    "        self.logits = tf.layers.dense(outputs, num_classes)\n",
    "        shape = tf.shape(x)\n",
    "        self.logits = tf.reshape(self.logits, [shape[0], -1, num_classes])\n",
    "        self.logits = tf.transpose(self.logits, (1, 0, 2))\n",
    "        self.global_step = tf.Variable(0, trainable=False)\n",
    "        self.loss = tf.nn.ctc_loss(labels=self.Y,\n",
    "                                   inputs=self.logits,\n",
    "                                   sequence_length=self.SEQ_LEN)\n",
    "        self.cost = tf.reduce_mean(self.loss)\n",
    "        self.optimizer = tf.train.AdamOptimizer(learning_rate=initial_learning_rate).minimize(self.cost)\n",
    "        self.decoded, self.log_prob = tf.nn.ctc_beam_search_decoder(self.logits,\n",
    "                                                                    self.SEQ_LEN,\n",
    "                                                                    merge_repeated=False)\n",
    "        decoded = tf.to_int32(self.decoded[0])\n",
    "        self.dense_decoded = tf.sparse_tensor_to_dense(decoded)\n",
    "        \n",
    "        preds = self.dense_decoded[:, :tf.reduce_max(self.Y_seq_len)]\n",
    "        masks = tf.sequence_mask(self.Y_seq_len, tf.reduce_max(self.Y_seq_len), dtype=tf.float32)\n",
    "        preds = pad_second_dim(preds, tf.reduce_max(self.Y_seq_len))\n",
    "        y_t = tf.cast(preds, tf.int32)\n",
    "        self.prediction = tf.boolean_mask(y_t, masks)\n",
    "        mask_label = tf.boolean_mask(self.label, masks)\n",
    "        self.mask_label = mask_label\n",
    "        correct_pred = tf.equal(self.prediction, mask_label)\n",
    "        correct_index = tf.cast(correct_pred, tf.float32)\n",
    "        self.accuracy = tf.reduce_mean(tf.cast(correct_pred, tf.float32))\n",
    "        \n",
    "        \n",
    "    def conv2d(self, x, name, filter_size, channel_in, channel_out, strides):\n",
    "        with tf.variable_scope(name):\n",
    "            return tf.layers.conv2d(x, channel_out, filter_size, strides, padding='SAME')\n",
    "        \n",
    "    \n",
    "    def batch_norm(self, name, x):\n",
    "        with tf.variable_scope(name):\n",
    "            params_shape = [x.get_shape()[-1]]\n",
    "            beta = tf.get_variable('beta', params_shape, tf.float32,\n",
    "                                   initializer=tf.constant_initializer(0.0, tf.float32))\n",
    "            gamma = tf.get_variable('gamma', params_shape, tf.float32,\n",
    "                                    initializer=tf.constant_initializer(1.0, tf.float32))\n",
    "            mean, variance = tf.nn.moments(x, [0, 1, 2], name='moments')\n",
    "            x_bn = tf.nn.batch_normalization(x, mean, variance, beta, gamma, 0.001)\n",
    "            x_bn.set_shape(x.get_shape())\n",
    "            return x_bn\n",
    "        \n",
    "    def leaky_relu(self, x, leak=0):\n",
    "        return tf.where(tf.less(x, 0.0), leak * x, x, name='leaky_relu')\n",
    "    \n",
    "    def max_pool(self, x, size, strides):\n",
    "        return tf.nn.max_pool(x, \n",
    "                              ksize=[1, size, size, 1],\n",
    "                              strides=[1, strides, strides, 1],\n",
    "                              padding='SAME',\n",
    "                              name='max_pool')"
   ]
  },
  {
   "cell_type": "code",
   "execution_count": 8,
   "metadata": {},
   "outputs": [],
   "source": [
    "def sparse_tuple_from_label(sequences, dtype=np.int32):\n",
    "    indices, values = [], []\n",
    "    for n, seq in enumerate(sequences):\n",
    "        indices.extend(zip([n] * len(seq), range(len(seq))))\n",
    "        values.extend(seq)\n",
    "    indices = np.asarray(indices, dtype=np.int64)\n",
    "    values = np.asarray(values, dtype=dtype)\n",
    "    shape = np.asarray([len(sequences), np.asarray(indices).max(0)[1] + 1], dtype=np.int64)\n",
    "    return indices, values, shape\n",
    "\n",
    "\n",
    "def pad_sentence_batch(sentence_batch, pad_int):\n",
    "    padded_seqs = []\n",
    "    seq_lens = []\n",
    "    max_sentence_len = max([len(sentence) for sentence in sentence_batch])\n",
    "    for sentence in sentence_batch:\n",
    "        padded_seqs.append(sentence + [pad_int] * (max_sentence_len - len(sentence)))\n",
    "        seq_lens.append(len(sentence))\n",
    "    return padded_seqs, seq_lens"
   ]
  },
  {
   "cell_type": "code",
   "execution_count": 9,
   "metadata": {},
   "outputs": [
    {
     "name": "stderr",
     "output_type": "stream",
     "text": [
      "WARNING: Logging before flag parsing goes to stderr.\n",
      "W0829 22:51:45.737936 139691927603008 deprecation.py:323] From <ipython-input-7-87943060143a>:69: conv2d (from tensorflow.python.layers.convolutional) is deprecated and will be removed in a future version.\n",
      "Instructions for updating:\n",
      "Use `tf.keras.layers.Conv2D` instead.\n",
      "W0829 22:51:45.743227 139691927603008 deprecation.py:506] From /home/husein/.local/lib/python3.6/site-packages/tensorflow/python/ops/init_ops.py:1251: calling VarianceScaling.__init__ (from tensorflow.python.ops.init_ops) with dtype is deprecated and will be removed in a future version.\n",
      "Instructions for updating:\n",
      "Call initializer instance with the dtype argument instead of passing it to the constructor\n",
      "W0829 22:51:45.988447 139691927603008 deprecation.py:506] From <ipython-input-7-87943060143a>:76: calling Constant.__init__ (from tensorflow.python.ops.init_ops) with dtype is deprecated and will be removed in a future version.\n",
      "Instructions for updating:\n",
      "Call initializer instance with the dtype argument instead of passing it to the constructor\n",
      "W0829 22:51:46.013294 139691927603008 deprecation.py:323] From <ipython-input-7-87943060143a>:85: add_dispatch_support.<locals>.wrapper (from tensorflow.python.ops.array_ops) is deprecated and will be removed in a future version.\n",
      "Instructions for updating:\n",
      "Use tf.where in 2.0, which has the same broadcast rule as np.where\n",
      "W0829 22:51:46.680723 139691927603008 lazy_loader.py:50] \n",
      "The TensorFlow contrib module will not be included in TensorFlow 2.0.\n",
      "For more information, please see:\n",
      "  * https://github.com/tensorflow/community/blob/master/rfcs/20180907-contrib-sunset.md\n",
      "  * https://github.com/tensorflow/addons\n",
      "  * https://github.com/tensorflow/io (for I/O related ops)\n",
      "If you depend on functionality not listed there, please file an issue.\n",
      "\n",
      "W0829 22:51:46.682112 139691927603008 deprecation.py:323] From <ipython-input-7-87943060143a>:34: LSTMCell.__init__ (from tensorflow.python.ops.rnn_cell_impl) is deprecated and will be removed in a future version.\n",
      "Instructions for updating:\n",
      "This class is equivalent as tf.keras.layers.LSTMCell, and will be replaced by that in Tensorflow 2.0.\n",
      "W0829 22:51:46.683474 139691927603008 deprecation.py:323] From <ipython-input-7-87943060143a>:36: MultiRNNCell.__init__ (from tensorflow.python.ops.rnn_cell_impl) is deprecated and will be removed in a future version.\n",
      "Instructions for updating:\n",
      "This class is equivalent as tf.keras.layers.StackedRNNCells, and will be replaced by that in Tensorflow 2.0.\n",
      "W0829 22:51:46.684638 139691927603008 deprecation.py:323] From <ipython-input-7-87943060143a>:37: dynamic_rnn (from tensorflow.python.ops.rnn) is deprecated and will be removed in a future version.\n",
      "Instructions for updating:\n",
      "Please use `keras.layers.RNN(cell)`, which is equivalent to this API\n",
      "W0829 22:51:47.023829 139691927603008 deprecation.py:506] From /home/husein/.local/lib/python3.6/site-packages/tensorflow/python/ops/rnn_cell_impl.py:961: calling Zeros.__init__ (from tensorflow.python.ops.init_ops) with dtype is deprecated and will be removed in a future version.\n",
      "Instructions for updating:\n",
      "Call initializer instance with the dtype argument instead of passing it to the constructor\n",
      "W0829 22:51:47.727965 139691927603008 deprecation.py:323] From <ipython-input-7-87943060143a>:39: dense (from tensorflow.python.layers.core) is deprecated and will be removed in a future version.\n",
      "Instructions for updating:\n",
      "Use keras.layers.dense instead.\n",
      "W0829 22:51:49.237528 139691927603008 deprecation.py:323] From <ipython-input-7-87943060143a>:52: to_int32 (from tensorflow.python.ops.math_ops) is deprecated and will be removed in a future version.\n",
      "Instructions for updating:\n",
      "Use `tf.cast` instead.\n"
     ]
    }
   ],
   "source": [
    "tf.reset_default_graph()\n",
    "sess = tf.InteractiveSession()\n",
    "model = Model()\n",
    "sess.run(tf.global_variables_initializer())"
   ]
  },
  {
   "cell_type": "code",
   "execution_count": 10,
   "metadata": {},
   "outputs": [
    {
     "name": "stderr",
     "output_type": "stream",
     "text": [
      "100%|██████████| 100000/100000 [02:43<00:00, 610.59it/s]\n"
     ]
    }
   ],
   "source": [
    "from tqdm import tqdm\n",
    "\n",
    "X, Y = [], []\n",
    "for i in tqdm(range(len(images))):\n",
    "    img = images[i]\n",
    "    X.append(imresize(cv2.imread(directory+img, 0).astype(np.float32)/255., (image_height,image_width)))\n",
    "    Y.append([SPACE_INDEX if labels[0] == SPACE_TOKEN else encode_maps[c] for c in labels[i]])"
   ]
  },
  {
   "cell_type": "code",
   "execution_count": 11,
   "metadata": {},
   "outputs": [],
   "source": [
    "from sklearn.model_selection import train_test_split\n",
    "\n",
    "train_X, test_X, train_Y, test_Y = train_test_split(X, Y, test_size = 0.2)"
   ]
  },
  {
   "cell_type": "code",
   "execution_count": 12,
   "metadata": {},
   "outputs": [
    {
     "name": "stderr",
     "output_type": "stream",
     "text": [
      "minibatch loop: 100%|██████████| 625/625 [14:21<00:00,  1.37s/it, accuracy=0.594, cost=7.13] \n",
      "minibatch loop: 100%|██████████| 157/157 [03:32<00:00,  1.10s/it, accuracy=0.59, cost=7.28] \n",
      "minibatch loop:   0%|          | 0/625 [00:00<?, ?it/s]"
     ]
    },
    {
     "name": "stdout",
     "output_type": "stream",
     "text": [
      "epoch 1, training avg loss 13.664520, training avg acc 0.256896\n",
      "epoch 1, testing avg loss 7.003703, testing avg acc 0.596915\n"
     ]
    },
    {
     "name": "stderr",
     "output_type": "stream",
     "text": [
      "minibatch loop: 100%|██████████| 625/625 [14:16<00:00,  1.37s/it, accuracy=0.966, cost=0.794]\n",
      "minibatch loop: 100%|██████████| 157/157 [03:28<00:00,  1.06s/it, accuracy=0.967, cost=0.917]\n",
      "minibatch loop:   0%|          | 0/625 [00:00<?, ?it/s]"
     ]
    },
    {
     "name": "stdout",
     "output_type": "stream",
     "text": [
      "epoch 2, training avg loss 3.353983, training avg acc 0.815715\n",
      "epoch 2, testing avg loss 0.913711, testing avg acc 0.958989\n"
     ]
    },
    {
     "name": "stderr",
     "output_type": "stream",
     "text": [
      "minibatch loop: 100%|██████████| 625/625 [14:08<00:00,  1.36s/it, accuracy=0.994, cost=0.111] \n",
      "minibatch loop: 100%|██████████| 157/157 [03:27<00:00,  1.03s/it, accuracy=0.967, cost=0.26] \n",
      "minibatch loop:   0%|          | 0/625 [00:00<?, ?it/s]"
     ]
    },
    {
     "name": "stdout",
     "output_type": "stream",
     "text": [
      "epoch 3, training avg loss 0.431414, training avg acc 0.981401\n",
      "epoch 3, testing avg loss 0.203769, testing avg acc 0.988942\n"
     ]
    },
    {
     "name": "stderr",
     "output_type": "stream",
     "text": [
      "minibatch loop: 100%|██████████| 625/625 [14:10<00:00,  1.35s/it, accuracy=0.999, cost=0.0418]\n",
      "minibatch loop: 100%|██████████| 157/157 [03:27<00:00,  1.05s/it, accuracy=0.976, cost=0.11]  \n",
      "minibatch loop:   0%|          | 0/625 [00:00<?, ?it/s]"
     ]
    },
    {
     "name": "stdout",
     "output_type": "stream",
     "text": [
      "epoch 4, training avg loss 0.146375, training avg acc 0.993252\n",
      "epoch 4, testing avg loss 0.130219, testing avg acc 0.992678\n"
     ]
    },
    {
     "name": "stderr",
     "output_type": "stream",
     "text": [
      "minibatch loop: 100%|██████████| 625/625 [14:07<00:00,  1.35s/it, accuracy=0.999, cost=0.0442]\n",
      "minibatch loop: 100%|██████████| 157/157 [03:27<00:00,  1.04s/it, accuracy=0.976, cost=0.11]  \n",
      "minibatch loop:   0%|          | 0/625 [00:00<?, ?it/s]"
     ]
    },
    {
     "name": "stdout",
     "output_type": "stream",
     "text": [
      "epoch 5, training avg loss 0.096891, training avg acc 0.995104\n",
      "epoch 5, testing avg loss 0.119220, testing avg acc 0.992331\n"
     ]
    },
    {
     "name": "stderr",
     "output_type": "stream",
     "text": [
      "minibatch loop: 100%|██████████| 625/625 [14:08<00:00,  1.35s/it, accuracy=0.996, cost=0.0601]\n",
      "minibatch loop: 100%|██████████| 157/157 [03:27<00:00,  1.07s/it, accuracy=0.991, cost=0.218] \n",
      "minibatch loop:   0%|          | 0/625 [00:00<?, ?it/s]"
     ]
    },
    {
     "name": "stdout",
     "output_type": "stream",
     "text": [
      "epoch 6, training avg loss 0.085956, training avg acc 0.995440\n",
      "epoch 6, testing avg loss 0.136504, testing avg acc 0.992477\n"
     ]
    },
    {
     "name": "stderr",
     "output_type": "stream",
     "text": [
      "minibatch loop: 100%|██████████| 625/625 [14:07<00:00,  1.35s/it, accuracy=1, cost=0.0201]    \n",
      "minibatch loop: 100%|██████████| 157/157 [03:27<00:00,  1.04s/it, accuracy=1, cost=0.0386]    \n",
      "minibatch loop:   0%|          | 0/625 [00:00<?, ?it/s]"
     ]
    },
    {
     "name": "stdout",
     "output_type": "stream",
     "text": [
      "epoch 7, training avg loss 0.065135, training avg acc 0.996399\n",
      "epoch 7, testing avg loss 0.076356, testing avg acc 0.995863\n"
     ]
    },
    {
     "name": "stderr",
     "output_type": "stream",
     "text": [
      "minibatch loop: 100%|██████████| 625/625 [14:07<00:00,  1.35s/it, accuracy=1, cost=0.0186]    \n",
      "minibatch loop: 100%|██████████| 157/157 [03:27<00:00,  1.06s/it, accuracy=1, cost=0.0212]    \n",
      "minibatch loop:   0%|          | 0/625 [00:00<?, ?it/s]"
     ]
    },
    {
     "name": "stdout",
     "output_type": "stream",
     "text": [
      "epoch 8, training avg loss 0.058813, training avg acc 0.996647\n",
      "epoch 8, testing avg loss 0.079129, testing avg acc 0.995560\n"
     ]
    },
    {
     "name": "stderr",
     "output_type": "stream",
     "text": [
      "minibatch loop: 100%|██████████| 625/625 [14:08<00:00,  1.36s/it, accuracy=1, cost=0.0132]    \n",
      "minibatch loop: 100%|██████████| 157/157 [03:27<00:00,  1.05s/it, accuracy=1, cost=0.0707]    \n",
      "minibatch loop:   0%|          | 0/625 [00:00<?, ?it/s]"
     ]
    },
    {
     "name": "stdout",
     "output_type": "stream",
     "text": [
      "epoch 9, training avg loss 0.052637, training avg acc 0.996959\n",
      "epoch 9, testing avg loss 0.067974, testing avg acc 0.996060\n"
     ]
    },
    {
     "name": "stderr",
     "output_type": "stream",
     "text": [
      "minibatch loop: 100%|██████████| 625/625 [14:18<00:00,  1.42s/it, accuracy=1, cost=0.0104]    \n",
      "minibatch loop: 100%|██████████| 157/157 [03:33<00:00,  1.09s/it, accuracy=0.995, cost=0.0445]\n",
      "minibatch loop:   0%|          | 0/625 [00:00<?, ?it/s]"
     ]
    },
    {
     "name": "stdout",
     "output_type": "stream",
     "text": [
      "epoch 10, training avg loss 0.051642, training avg acc 0.997049\n",
      "epoch 10, testing avg loss 0.045224, testing avg acc 0.997184\n"
     ]
    },
    {
     "name": "stderr",
     "output_type": "stream",
     "text": [
      "minibatch loop: 100%|██████████| 625/625 [14:27<00:00,  1.39s/it, accuracy=1, cost=0.0119]    \n",
      "minibatch loop: 100%|██████████| 157/157 [03:31<00:00,  1.07s/it, accuracy=0.939, cost=0.321] \n",
      "minibatch loop:   0%|          | 0/625 [00:00<?, ?it/s]"
     ]
    },
    {
     "name": "stdout",
     "output_type": "stream",
     "text": [
      "epoch 11, training avg loss 0.037941, training avg acc 0.997852\n",
      "epoch 11, testing avg loss 0.110841, testing avg acc 0.993028\n"
     ]
    },
    {
     "name": "stderr",
     "output_type": "stream",
     "text": [
      "minibatch loop: 100%|██████████| 625/625 [14:29<00:00,  1.37s/it, accuracy=0.999, cost=0.0183]\n",
      "minibatch loop: 100%|██████████| 157/157 [03:33<00:00,  1.10s/it, accuracy=1, cost=0.0266]    \n",
      "minibatch loop:   0%|          | 0/625 [00:00<?, ?it/s]"
     ]
    },
    {
     "name": "stdout",
     "output_type": "stream",
     "text": [
      "epoch 12, training avg loss 0.049097, training avg acc 0.997056\n",
      "epoch 12, testing avg loss 0.052734, testing avg acc 0.996672\n"
     ]
    },
    {
     "name": "stderr",
     "output_type": "stream",
     "text": [
      "minibatch loop: 100%|██████████| 625/625 [14:25<00:00,  1.38s/it, accuracy=0.999, cost=0.017]  \n",
      "minibatch loop: 100%|██████████| 157/157 [03:31<00:00,  1.08s/it, accuracy=0.995, cost=0.127] \n",
      "minibatch loop:   0%|          | 0/625 [00:00<?, ?it/s]"
     ]
    },
    {
     "name": "stdout",
     "output_type": "stream",
     "text": [
      "epoch 13, training avg loss 0.027234, training avg acc 0.998494\n",
      "epoch 13, testing avg loss 0.101270, testing avg acc 0.994909\n"
     ]
    },
    {
     "name": "stderr",
     "output_type": "stream",
     "text": [
      "minibatch loop: 100%|██████████| 625/625 [14:24<00:00,  1.39s/it, accuracy=0.999, cost=0.039] \n",
      "minibatch loop: 100%|██████████| 157/157 [03:31<00:00,  1.06s/it, accuracy=1, cost=0.0205]    \n",
      "minibatch loop:   0%|          | 0/625 [00:00<?, ?it/s]"
     ]
    },
    {
     "name": "stdout",
     "output_type": "stream",
     "text": [
      "epoch 14, training avg loss 0.036998, training avg acc 0.997947\n",
      "epoch 14, testing avg loss 0.048051, testing avg acc 0.997119\n"
     ]
    },
    {
     "name": "stderr",
     "output_type": "stream",
     "text": [
      "minibatch loop: 100%|██████████| 625/625 [14:24<00:00,  1.38s/it, accuracy=1, cost=0.00443]    \n",
      "minibatch loop: 100%|██████████| 157/157 [03:32<00:00,  1.10s/it, accuracy=0.995, cost=0.111] \n",
      "minibatch loop:   0%|          | 0/625 [00:00<?, ?it/s]"
     ]
    },
    {
     "name": "stdout",
     "output_type": "stream",
     "text": [
      "epoch 15, training avg loss 0.029729, training avg acc 0.998163\n",
      "epoch 15, testing avg loss 0.045602, testing avg acc 0.997220\n"
     ]
    },
    {
     "name": "stderr",
     "output_type": "stream",
     "text": [
      "minibatch loop: 100%|██████████| 625/625 [14:22<00:00,  1.41s/it, accuracy=0.996, cost=0.035]  \n",
      "minibatch loop: 100%|██████████| 157/157 [03:32<00:00,  1.07s/it, accuracy=1, cost=0.0063]    \n",
      "minibatch loop:   0%|          | 0/625 [00:00<?, ?it/s]"
     ]
    },
    {
     "name": "stdout",
     "output_type": "stream",
     "text": [
      "epoch 16, training avg loss 0.028113, training avg acc 0.998413\n",
      "epoch 16, testing avg loss 0.047610, testing avg acc 0.997440\n"
     ]
    },
    {
     "name": "stderr",
     "output_type": "stream",
     "text": [
      "minibatch loop: 100%|██████████| 625/625 [14:06<00:00,  1.33s/it, accuracy=1, cost=0.00107]    \n",
      "minibatch loop: 100%|██████████| 157/157 [03:22<00:00,  1.01s/it, accuracy=0.995, cost=0.165]  \n",
      "minibatch loop:   0%|          | 0/625 [00:00<?, ?it/s]"
     ]
    },
    {
     "name": "stdout",
     "output_type": "stream",
     "text": [
      "epoch 17, training avg loss 0.028695, training avg acc 0.998254\n",
      "epoch 17, testing avg loss 0.028516, testing avg acc 0.998482\n"
     ]
    },
    {
     "name": "stderr",
     "output_type": "stream",
     "text": [
      "minibatch loop: 100%|██████████| 625/625 [13:35<00:00,  1.31s/it, accuracy=1, cost=0.00584]    \n",
      "minibatch loop: 100%|██████████| 157/157 [03:20<00:00,  1.00s/it, accuracy=1, cost=0.00128]   \n",
      "minibatch loop:   0%|          | 0/625 [00:00<?, ?it/s]"
     ]
    },
    {
     "name": "stdout",
     "output_type": "stream",
     "text": [
      "epoch 18, training avg loss 0.020355, training avg acc 0.998839\n",
      "epoch 18, testing avg loss 0.033305, testing avg acc 0.998084\n"
     ]
    },
    {
     "name": "stderr",
     "output_type": "stream",
     "text": [
      "minibatch loop: 100%|██████████| 625/625 [13:35<00:00,  1.31s/it, accuracy=0.998, cost=0.0693] \n",
      "minibatch loop: 100%|██████████| 157/157 [03:19<00:00,  1.02s/it, accuracy=1, cost=0.00685]   \n",
      "minibatch loop:   0%|          | 0/625 [00:00<?, ?it/s]"
     ]
    },
    {
     "name": "stdout",
     "output_type": "stream",
     "text": [
      "epoch 19, training avg loss 0.031560, training avg acc 0.998207\n",
      "epoch 19, testing avg loss 0.060350, testing avg acc 0.996566\n"
     ]
    },
    {
     "name": "stderr",
     "output_type": "stream",
     "text": [
      "minibatch loop: 100%|██████████| 625/625 [13:33<00:00,  1.29s/it, accuracy=1, cost=0.000778]   \n",
      "minibatch loop: 100%|██████████| 157/157 [03:19<00:00,  1.01it/s, accuracy=0.995, cost=0.054]  "
     ]
    },
    {
     "name": "stdout",
     "output_type": "stream",
     "text": [
      "epoch 20, training avg loss 0.016528, training avg acc 0.999112\n",
      "epoch 20, testing avg loss 0.019961, testing avg acc 0.998736\n"
     ]
    },
    {
     "name": "stderr",
     "output_type": "stream",
     "text": [
      "\n"
     ]
    }
   ],
   "source": [
    "for e in range(epoch):\n",
    "    pbar = tqdm(\n",
    "        range(0, len(train_X), batch_size), desc = 'minibatch loop')\n",
    "    train_loss, train_acc, test_loss, test_acc = [], [], [], []\n",
    "    total_lost, total_acc = 0, 0\n",
    "    for i in pbar:\n",
    "        index = min(i + batch_size, len(train_X))\n",
    "        batch_x = train_X[i : index]\n",
    "        batch_x = np.array(batch_x).reshape((len(batch_x), image_height, image_width,image_channel))\n",
    "        y = train_Y[i : index]\n",
    "        batch_y = sparse_tuple_from_label(y)\n",
    "        batch_label, batch_length = pad_sentence_batch(y, 0)\n",
    "        batch_len = np.asarray([max_stepsize for _ in [1]*len(batch_x)], dtype=np.int64)\n",
    "        feed = {model.X: batch_x,\n",
    "                model.Y: batch_y,\n",
    "                model.SEQ_LEN: batch_len,\n",
    "               model.label: batch_label,\n",
    "               model.Y_seq_len: batch_length}\n",
    "        accuracy, loss, _ = sess.run([model.accuracy,model.cost,model.optimizer],\n",
    "                                    feed_dict = feed)\n",
    "        train_loss.append(loss)\n",
    "        train_acc.append(accuracy)\n",
    "        pbar.set_postfix(cost = loss, accuracy = accuracy)\n",
    "        \n",
    "    pbar = tqdm(\n",
    "        range(0, len(test_X), batch_size), desc = 'minibatch loop')\n",
    "    for i in pbar:\n",
    "        index = min(i + batch_size, len(test_X))\n",
    "        batch_x = test_X[i : index]\n",
    "        batch_x = np.array(batch_x).reshape((len(batch_x), image_height, image_width,image_channel))\n",
    "        y = test_Y[i : index]\n",
    "        batch_y = sparse_tuple_from_label(y)\n",
    "        batch_label, batch_length = pad_sentence_batch(y, 0)\n",
    "        batch_len = np.asarray([max_stepsize for _ in [1]*len(batch_x)], dtype=np.int64)\n",
    "        feed = {model.X: batch_x,\n",
    "                model.Y: batch_y,\n",
    "                model.SEQ_LEN: batch_len,\n",
    "               model.label: batch_label,\n",
    "               model.Y_seq_len: batch_length}\n",
    "        accuracy, loss = sess.run([model.accuracy,model.cost],\n",
    "                                    feed_dict = feed)\n",
    "\n",
    "        test_loss.append(loss)\n",
    "        test_acc.append(accuracy)\n",
    "        pbar.set_postfix(cost = loss, accuracy = accuracy)\n",
    "    \n",
    "    print('epoch %d, training avg loss %f, training avg acc %f'%(e+1,\n",
    "                                                                 np.mean(train_loss),np.mean(train_acc)))\n",
    "    print('epoch %d, testing avg loss %f, testing avg acc %f'%(e+1,\n",
    "                                                              np.mean(test_loss),np.mean(test_acc)))"
   ]
  },
  {
   "cell_type": "code",
   "execution_count": 15,
   "metadata": {},
   "outputs": [
    {
     "data": {
      "image/png": "[encoded data removed]",
      "text/plain": [
       "<Figure size 432x288 with 1 Axes>"
      ]
     },
     "metadata": {
      "needs_background": "light"
     },
     "output_type": "display_data"
    }
   ],
   "source": [
    "decoded = sess.run(model.dense_decoded, feed_dict = {model.X: batch_x[:1],\n",
    "                                          model.SEQ_LEN: batch_len[:1]})\n",
    "plt.imshow(batch_x[0][:,:,0])\n",
    "decoded = ''.join([decode_maps[i] for i in decoded[0]])\n",
    "actual = ''.join([decode_maps[i] for i in y[0]])\n",
    "plt.title('predict: %s, actual: %s'%(decoded, actual))\n",
    "plt.show()"
   ]
  },
  {
   "cell_type": "code",
   "execution_count": null,
   "metadata": {},
   "outputs": [],
   "source": []
  }
 ],
 "metadata": {
  "kernelspec": {
   "display_name": "Python 3",
   "language": "python",
   "name": "python3"
  },
  "language_info": {
   "codemirror_mode": {
    "name": "ipython",
    "version": 3
   },
   "file_extension": ".py",
   "mimetype": "text/x-python",
   "name": "python",
   "nbconvert_exporter": "python",
   "pygments_lexer": "ipython3",
   "version": "3.6.8"
  }
 },
 "nbformat": 4,
 "nbformat_minor": 2
}
