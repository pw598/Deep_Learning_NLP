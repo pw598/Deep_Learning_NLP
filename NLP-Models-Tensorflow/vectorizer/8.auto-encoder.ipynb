{
 "cells": [
  {
   "cell_type": "code",
   "execution_count": 1,
   "metadata": {},
   "outputs": [
    {
     "name": "stderr",
     "output_type": "stream",
     "text": [
      "/usr/local/lib/python3.5/dist-packages/sklearn/cross_validation.py:41: DeprecationWarning: This module was deprecated in version 0.18 in favor of the model_selection module into which all the refactored classes and functions are moved. Also note that the interface of the new CV iterators are different from that of this module. This module will be removed in 0.20.\n",
      "  \"This module will be removed in 0.20.\", DeprecationWarning)\n",
      "/usr/local/lib/python3.5/dist-packages/h5py/__init__.py:36: FutureWarning: Conversion of the second argument of issubdtype from `float` to `np.floating` is deprecated. In future, it will be treated as `np.float64 == np.dtype(float).type`.\n",
      "  from ._conv import register_converters as _register_converters\n"
     ]
    }
   ],
   "source": [
    "import sklearn.datasets\n",
    "from sklearn.cross_validation import train_test_split\n",
    "import re\n",
    "import tensorflow as tf\n",
    "from sklearn import metrics\n",
    "import numpy as np\n",
    "import collections\n",
    "import time\n",
    "import os\n",
    "os.environ['CUDA_VISIBLE_DEVICES'] = ''"
   ]
  },
  {
   "cell_type": "code",
   "execution_count": 2,
   "metadata": {},
   "outputs": [],
   "source": [
    "def clearstring(string):\n",
    "    string = re.sub('[^A-Za-z ]+', '', string)\n",
    "    string = string.split('\\n')\n",
    "    string = [y.strip() for y in filter(None, string)]\n",
    "    string = (' '.join(string)).lower()\n",
    "    return ' '.join([y.strip() for y in string.split()])\n",
    "\n",
    "def separate_dataset(trainset):\n",
    "    datastring = []\n",
    "    datatarget = []\n",
    "    for i in range(len(trainset.data)):\n",
    "        data_ = trainset.data[i].split('\\n')\n",
    "        data_ = list(filter(None, data_))\n",
    "        for n in range(len(data_)):\n",
    "            data_[n] = clearstring(data_[n])\n",
    "        datastring += data_\n",
    "        for n in range(len(data_)):\n",
    "            datatarget.append(trainset.target[i])\n",
    "    return datastring, datatarget\n",
    "\n",
    "def build_dataset(words, n_words):\n",
    "    count = [['GO', 0], ['PAD', 1], ['EOS', 2], ['UNK', 3]]\n",
    "    count.extend(collections.Counter(words).most_common(n_words))\n",
    "    dictionary = dict()\n",
    "    for word, _ in count:\n",
    "        dictionary[word] = len(dictionary)\n",
    "    data = list()\n",
    "    unk_count = 0\n",
    "    for word in words:\n",
    "        index = dictionary.get(word, 0)\n",
    "        if index == 0:\n",
    "            unk_count += 1\n",
    "        data.append(index)\n",
    "    count[0][1] = unk_count\n",
    "    reversed_dictionary = dict(zip(dictionary.values(), dictionary.keys()))\n",
    "    return data, count, dictionary, reversed_dictionary\n",
    "\n",
    "def str_idx(corpus, dic, maxlen, UNK=3):\n",
    "    X = np.zeros((len(corpus),maxlen))\n",
    "    for i in range(len(corpus)):\n",
    "        for no, k in enumerate(corpus[i].split()[:maxlen][::-1]):\n",
    "            try:\n",
    "                X[i,-1 - no]=dic[k]\n",
    "            except Exception as e:\n",
    "                X[i,-1 - no]=UNK\n",
    "    return X"
   ]
  },
  {
   "cell_type": "code",
   "execution_count": 3,
   "metadata": {},
   "outputs": [
    {
     "data": {
      "text/plain": [
       "320"
      ]
     },
     "execution_count": 3,
     "metadata": {},
     "output_type": "execute_result"
    }
   ],
   "source": [
    "dataset = sklearn.datasets.load_files(container_path = 'data', encoding = 'UTF-8')\n",
    "dataset.data, dataset.target = separate_dataset(dataset)\n",
    "_,dataset.data,_,dataset.target=train_test_split(dataset.data,dataset.target,test_size = 0.03)\n",
    "len(dataset.data)"
   ]
  },
  {
   "cell_type": "code",
   "execution_count": 4,
   "metadata": {},
   "outputs": [
    {
     "name": "stdout",
     "output_type": "stream",
     "text": [
      "vocab from size: 2392\n",
      "Most common words [('the', 321), ('a', 212), ('and', 194), ('of', 177), ('to', 146), ('is', 100)]\n",
      "Sample data [1632, 9, 17, 1947, 7, 887, 36, 7, 4, 121] ['eastwood', 'is', 'an', 'icon', 'of', 'moviemaking', 'one', 'of', 'the', 'best']\n"
     ]
    }
   ],
   "source": [
    "concat = ' '.join(dataset.data).split()\n",
    "vocabulary_size = len(list(set(concat)))\n",
    "data, count, dictionary, rev_dictionary = build_dataset(concat, vocabulary_size)\n",
    "print('vocab from size: %d'%(vocabulary_size))\n",
    "print('Most common words', count[4:10])\n",
    "print('Sample data', data[:10], [rev_dictionary[i] for i in data[:10]])"
   ]
  },
  {
   "cell_type": "code",
   "execution_count": 5,
   "metadata": {},
   "outputs": [],
   "source": [
    "GO = dictionary['GO']\n",
    "PAD = dictionary['PAD']\n",
    "EOS = dictionary['EOS']\n",
    "UNK = dictionary['UNK']"
   ]
  },
  {
   "cell_type": "code",
   "execution_count": 6,
   "metadata": {},
   "outputs": [],
   "source": [
    "class Model:\n",
    "    def __init__(self, size_layer, num_layers, embedded_size,\n",
    "                 dict_size, dimension_output, learning_rate,seq_len):\n",
    "        def cells(size,reuse=False):\n",
    "            return tf.nn.rnn_cell.LSTMCell(size,initializer=tf.orthogonal_initializer(),reuse=reuse)\n",
    "        self.X = tf.placeholder(tf.int32, [None, None])\n",
    "        encoder_embeddings = tf.Variable(tf.random_uniform([dict_size, embedded_size], 0, 1))\n",
    "        encoder_embedded = tf.nn.embedding_lookup(encoder_embeddings, self.X)\n",
    "        rnn_cells = tf.nn.rnn_cell.MultiRNNCell([cells(size_layer) for _ in range(num_layers)])\n",
    "        outputs, _ = tf.nn.dynamic_rnn(rnn_cells, encoder_embedded, dtype = tf.float32)\n",
    "        outputs = tf.reshape(outputs,[-1,seq_len*size_layer])\n",
    "        W = tf.get_variable('w',shape=(size_layer*seq_len, dimension_output),initializer=tf.orthogonal_initializer())\n",
    "        b = tf.get_variable('b',shape=(dimension_output),initializer=tf.zeros_initializer())\n",
    "        self.logits = tf.nn.tanh(tf.matmul(outputs, W) + b)\n",
    "        W_decoder = tf.get_variable('w_decoder',shape=(dimension_output,size_layer*seq_len),initializer=tf.orthogonal_initializer())\n",
    "        b_decoder = tf.get_variable('b_decoder',shape=(size_layer*seq_len),initializer=tf.zeros_initializer())\n",
    "        logits_decoder = tf.nn.tanh(tf.matmul(self.logits,W_decoder) + b_decoder)\n",
    "        logits_decoder = tf.reshape(logits_decoder,[-1,seq_len,size_layer])\n",
    "        with tf.variable_scope(\"decoder\"):\n",
    "            rnn_cells_decoder = tf.nn.rnn_cell.MultiRNNCell([cells(embedded_size) for _ in range(num_layers)])\n",
    "            outputs, _ = tf.nn.dynamic_rnn(rnn_cells_decoder, logits_decoder, dtype = tf.float32)\n",
    "        decoder_dense = tf.layers.dense(outputs,dict_size)\n",
    "        onehot_X = tf.one_hot(self.X,dict_size,axis=2,dtype=tf.float32)\n",
    "        loss=tf.nn.softmax_cross_entropy_with_logits(labels = onehot_X, logits = decoder_dense)\n",
    "        self.cost = tf.reduce_mean(loss)\n",
    "        self.optimizer = tf.train.RMSPropOptimizer(learning_rate).minimize(self.cost)"
   ]
  },
  {
   "cell_type": "code",
   "execution_count": 7,
   "metadata": {},
   "outputs": [],
   "source": [
    "size_layer = 256\n",
    "num_layers = 2\n",
    "embedded_size = 128\n",
    "dimension_output = 100\n",
    "learning_rate = 1e-2\n",
    "maxlen = 50\n",
    "batch_size = 32\n",
    "epoch = 10"
   ]
  },
  {
   "cell_type": "code",
   "execution_count": 8,
   "metadata": {},
   "outputs": [],
   "source": [
    "tf.reset_default_graph()\n",
    "sess = tf.InteractiveSession()\n",
    "model = Model(size_layer,num_layers,embedded_size,vocabulary_size+4,dimension_output,learning_rate,maxlen)\n",
    "sess.run(tf.global_variables_initializer())"
   ]
  },
  {
   "cell_type": "code",
   "execution_count": 9,
   "metadata": {},
   "outputs": [],
   "source": [
    "X = str_idx(dataset.data,dictionary,maxlen)\n",
    "Y = dataset.target"
   ]
  },
  {
   "cell_type": "code",
   "execution_count": 10,
   "metadata": {},
   "outputs": [
    {
     "name": "stdout",
     "output_type": "stream",
     "text": [
      "epoch 1, avg loss 7.760394\n",
      "epoch 2, avg loss 7.704803\n",
      "epoch 3, avg loss 7.635571\n",
      "epoch 4, avg loss 7.540095\n",
      "epoch 5, avg loss 7.259135\n",
      "epoch 6, avg loss 5.018867\n",
      "epoch 7, avg loss 4.009128\n",
      "epoch 8, avg loss 3.605722\n",
      "epoch 9, avg loss 3.323606\n",
      "epoch 10, avg loss 3.199110\n"
     ]
    }
   ],
   "source": [
    "for i in range(epoch):\n",
    "    total_loss = 0\n",
    "    for k in range(0, (X.shape[0]//batch_size)*batch_size,batch_size):\n",
    "        loss,_ = sess.run([model.cost,model.optimizer],feed_dict={model.X:X[k:k+batch_size,:]})\n",
    "        total_loss += loss\n",
    "    total_loss /= (X.shape[0]//batch_size)\n",
    "    print('epoch %d, avg loss %f'%(i+1,total_loss))"
   ]
  },
  {
   "cell_type": "code",
   "execution_count": 11,
   "metadata": {},
   "outputs": [
    {
     "data": {
      "text/plain": [
       "(320, 100)"
      ]
     },
     "execution_count": 11,
     "metadata": {},
     "output_type": "execute_result"
    }
   ],
   "source": [
    "logits_test = sess.run(tf.nn.sigmoid(model.logits),feed_dict={model.X:X})\n",
    "logits_test.shape"
   ]
  },
  {
   "cell_type": "code",
   "execution_count": 15,
   "metadata": {},
   "outputs": [
    {
     "data": {
      "text/plain": [
       "array([[0.7244937 , 0.71604526, 0.2728961 , ..., 0.7290659 , 0.6692666 ,\n",
       "        0.7200828 ],\n",
       "       [0.72441274, 0.7157007 , 0.27314687, ..., 0.7290498 , 0.66894525,\n",
       "        0.72017443],\n",
       "       [0.7248277 , 0.71632665, 0.27279508, ..., 0.7290951 , 0.6697026 ,\n",
       "        0.720635  ],\n",
       "       ...,\n",
       "       [0.72442067, 0.71599936, 0.27315977, ..., 0.72899246, 0.6683353 ,\n",
       "        0.72006834],\n",
       "       [0.7250132 , 0.7173392 , 0.2725796 , ..., 0.7291803 , 0.6708015 ,\n",
       "        0.72104675],\n",
       "       [0.7243585 , 0.71537685, 0.27310753, ..., 0.728969  , 0.6686277 ,\n",
       "        0.7199703 ]], dtype=float32)"
      ]
     },
     "execution_count": 15,
     "metadata": {},
     "output_type": "execute_result"
    }
   ],
   "source": [
    "logits_test"
   ]
  },
  {
   "cell_type": "code",
   "execution_count": 12,
   "metadata": {},
   "outputs": [],
   "source": [
    "from sklearn.manifold import TSNE\n",
    "manifold_polarity = TSNE(n_components=2).fit_transform(logits_test)"
   ]
  },
  {
   "cell_type": "code",
   "execution_count": 13,
   "metadata": {},
   "outputs": [],
   "source": [
    "import matplotlib.pyplot as plt\n",
    "import seaborn as sns\n",
    "sns.set()\n",
    "from matplotlib import offsetbox"
   ]
  },
  {
   "cell_type": "code",
   "execution_count": 14,
   "metadata": {},
   "outputs": [
    {
     "data": {
      "image/png": "[encoded data removed]",
      "text/plain": [
       "<matplotlib.figure.Figure at 0x7f466da6b588>"
      ]
     },
     "metadata": {},
     "output_type": "display_data"
    }
   ],
   "source": [
    "ax_min = np.min(logits_test,0)\n",
    "ax_max = np.max(logits_test,0)\n",
    "ax_dist_sq = np.sum((ax_max-ax_min)**2)\n",
    "plt.figure(figsize=(11,11))\n",
    "ax = plt.subplot(111)\n",
    "shown_images = np.array([[1., 1.]])\n",
    "colors = sns.color_palette(n_colors=len(dataset.target_names))\n",
    "for i in range(manifold_polarity.shape[0]):\n",
    "    dist = np.sum((manifold_polarity[i] - shown_images)**2, 1)\n",
    "    if np.min(dist) < 3e-4*ax_dist_sq:\n",
    "        continue\n",
    "    shown_images = np.r_[shown_images, [manifold_polarity[i]]]\n",
    "    plt.scatter(manifold_polarity[i,0],manifold_polarity[i,1],c=colors[Y[i]])\n",
    "plt.legend(dataset.target_names)\n",
    "plt.show()"
   ]
  },
  {
   "cell_type": "code",
   "execution_count": null,
   "metadata": {},
   "outputs": [],
   "source": []
  }
 ],
 "metadata": {
  "kernelspec": {
   "display_name": "Python 3",
   "language": "python",
   "name": "python3"
  },
  "language_info": {
   "codemirror_mode": {
    "name": "ipython",
    "version": 3
   },
   "file_extension": ".py",
   "mimetype": "text/x-python",
   "name": "python",
   "nbconvert_exporter": "python",
   "pygments_lexer": "ipython3",
   "version": "3.5.2"
  }
 },
 "nbformat": 4,
 "nbformat_minor": 2
}
