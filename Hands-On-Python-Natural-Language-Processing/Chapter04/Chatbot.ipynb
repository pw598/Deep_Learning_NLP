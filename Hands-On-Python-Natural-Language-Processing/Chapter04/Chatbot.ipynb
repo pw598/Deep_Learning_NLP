{
 "cells": [
  {
   "cell_type": "code",
   "execution_count": 1,
   "metadata": {},
   "outputs": [],
   "source": [
    "#!pip install scikit-learn\n",
    "import numpy as np\n",
    "from sklearn.feature_extraction.text import TfidfTransformer\n",
    "from sklearn.metrics.pairwise import cosine_similarity\n",
    "from sklearn.feature_extraction.text import CountVectorizer\n",
    "\n",
    "\n",
    "#loading questions and answers in separate lists\n",
    "import ast \n",
    "questions = []\n",
    "answers = [] \n",
    "with open('qa_Electronics.json','r') as f:\n",
    "    for line in f:\n",
    "        data = ast.literal_eval(line)\n",
    "        questions.append(data['question'].lower())\n",
    "        answers.append(data['answer'].lower())"
   ]
  },
  {
   "cell_type": "code",
   "execution_count": 2,
   "metadata": {},
   "outputs": [],
   "source": [
    "# tokenize the text and convert data in matrix format\n",
    "from sklearn.feature_extraction.text import CountVectorizer\n",
    "vectorizer = CountVectorizer(stop_words='english')\n",
    "X_vec = vectorizer.fit_transform(questions)"
   ]
  },
  {
   "cell_type": "code",
   "execution_count": 4,
   "metadata": {},
   "outputs": [],
   "source": [
    "# Transform data by applying term frequency inverse document frequency (TF-IDF) \n",
    "tfidf = TfidfTransformer() #by default applies \"l2\" normalization\n",
    "X_tfidf = tfidf.fit_transform(X_vec)"
   ]
  },
  {
   "cell_type": "code",
   "execution_count": 5,
   "metadata": {},
   "outputs": [],
   "source": [
    "def conversation(im):\n",
    "    global tfidf, answers, X_tfidf\n",
    "    Y_vec = vectorizer.transform(im)\n",
    "    Y_tfidf = tfidf.fit_transform(Y_vec)\n",
    "    cos_sim = np.rad2deg(np.arccos(max(cosine_similarity(Y_tfidf, X_tfidf)[0])))\n",
    "    if cos_sim > 60 :\n",
    "        return \"sorry, I did not quite understand that\"\n",
    "    else:\n",
    "        return answers[np.argmax(cosine_similarity(Y_tfidf, X_tfidf)[0])]\n",
    "\n",
    "def main():\n",
    "    usr = input(\"Please enter your username: \")\n",
    "    print(\"support: Hi, welcome to Q&A support. How can I help you?\")\n",
    "    while True:\n",
    "        im = input(\"{}: \".format(usr))\n",
    "        if im.lower() == 'bye':\n",
    "            print(\"Q&A support: bye!\")\n",
    "            break\n",
    "        else:\n",
    "            print(\"Q&A support: \"+conversation([im]))"
   ]
  },
  {
   "cell_type": "code",
   "execution_count": 6,
   "metadata": {},
   "outputs": [
    {
     "name": "stdout",
     "output_type": "stream",
     "text": [
      "Please enter your username: techgeek\n",
      "support: Hi, welcome to Q&A support. How can I help you?\n",
      "techgeek: My laptop would not start\n",
      "Q&A support: hi, you may get you laptop in 3 to 5 business day depending on you location. thanks for you interest. tech mark.\n",
      "techgeek: Wow! does that mean it is covered under replacement warranty?\n",
      "Q&A support: sorry i forgot if it has, but it works well in my laptop, luckily, i can't find any dead point in this screen.\n",
      "techgeek: That does not make any sense\n",
      "Q&A support: it is a power supply and does nothing to make it a tv, just sends power to it.\n",
      "techgeek: You are a moron\n",
      "Q&A support: sorry, I did not quite understand that\n",
      "techgeek: bye\n",
      "Q&A support: bye!\n"
     ]
    }
   ],
   "source": [
    "main()"
   ]
  }
 ],
 "metadata": {
  "kernelspec": {
   "display_name": "Python 3",
   "language": "python",
   "name": "python3"
  },
  "language_info": {
   "codemirror_mode": {
    "name": "ipython",
    "version": 3
   },
   "file_extension": ".py",
   "mimetype": "text/x-python",
   "name": "python",
   "nbconvert_exporter": "python",
   "pygments_lexer": "ipython3",
   "version": "3.7.7"
  }
 },
 "nbformat": 4,
 "nbformat_minor": 4
}
