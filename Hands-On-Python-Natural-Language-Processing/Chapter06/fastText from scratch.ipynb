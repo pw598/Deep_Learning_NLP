{
 "cells": [
  {
   "cell_type": "markdown",
   "metadata": {},
   "source": [
    "# Building fastText based models"
   ]
  },
  {
   "cell_type": "markdown",
   "metadata": {},
   "source": [
    "### Importing the libraries and data"
   ]
  },
  {
   "cell_type": "code",
   "execution_count": 1,
   "metadata": {},
   "outputs": [],
   "source": [
    "from gensim.models import FastText\n",
    "from gensim.test.utils import common_texts"
   ]
  },
  {
   "cell_type": "code",
   "execution_count": 2,
   "metadata": {},
   "outputs": [
    {
     "data": {
      "text/plain": [
       "[['human', 'interface', 'computer'],\n",
       " ['survey', 'user', 'computer', 'system', 'response', 'time'],\n",
       " ['eps', 'user', 'interface', 'system'],\n",
       " ['system', 'human', 'system', 'eps'],\n",
       " ['user', 'response', 'time'],\n",
       " ['trees'],\n",
       " ['graph', 'trees'],\n",
       " ['graph', 'minors', 'trees'],\n",
       " ['graph', 'minors', 'survey']]"
      ]
     },
     "execution_count": 2,
     "metadata": {},
     "output_type": "execute_result"
    }
   ],
   "source": [
    "common_texts"
   ]
  },
  {
   "cell_type": "markdown",
   "metadata": {},
   "source": [
    "### Building a basic model"
   ]
  },
  {
   "cell_type": "code",
   "execution_count": 3,
   "metadata": {},
   "outputs": [],
   "source": [
    "model = FastText(size=5, window=3, min_count=1)"
   ]
  },
  {
   "cell_type": "code",
   "execution_count": 4,
   "metadata": {},
   "outputs": [],
   "source": [
    "model.build_vocab(sentences=common_texts)\n",
    "model.train(sentences=common_texts, total_examples=len(common_texts), epochs=10)"
   ]
  },
  {
   "cell_type": "markdown",
   "metadata": {},
   "source": [
    "### Check the vocabulary"
   ]
  },
  {
   "cell_type": "code",
   "execution_count": 5,
   "metadata": {},
   "outputs": [
    {
     "data": {
      "text/plain": [
       "{'human': <gensim.models.keyedvectors.Vocab at 0x1103db780>,\n",
       " 'interface': <gensim.models.keyedvectors.Vocab at 0x1103db7f0>,\n",
       " 'computer': <gensim.models.keyedvectors.Vocab at 0x1274b84a8>,\n",
       " 'survey': <gensim.models.keyedvectors.Vocab at 0x1274b8710>,\n",
       " 'user': <gensim.models.keyedvectors.Vocab at 0x1274b8748>,\n",
       " 'system': <gensim.models.keyedvectors.Vocab at 0x1274b8780>,\n",
       " 'response': <gensim.models.keyedvectors.Vocab at 0x1274b87b8>,\n",
       " 'time': <gensim.models.keyedvectors.Vocab at 0x1274b87f0>,\n",
       " 'eps': <gensim.models.keyedvectors.Vocab at 0x1274b8828>,\n",
       " 'trees': <gensim.models.keyedvectors.Vocab at 0x1274b8860>,\n",
       " 'graph': <gensim.models.keyedvectors.Vocab at 0x1274b8898>,\n",
       " 'minors': <gensim.models.keyedvectors.Vocab at 0x1274b88d0>}"
      ]
     },
     "execution_count": 5,
     "metadata": {},
     "output_type": "execute_result"
    }
   ],
   "source": [
    "model.wv.vocab"
   ]
  },
  {
   "cell_type": "code",
   "execution_count": 6,
   "metadata": {},
   "outputs": [
    {
     "data": {
      "text/plain": [
       "array([ 0.03953331, -0.02951075,  0.02039873,  0.00304991, -0.00968183],\n",
       "      dtype=float32)"
      ]
     },
     "execution_count": 6,
     "metadata": {},
     "output_type": "execute_result"
    }
   ],
   "source": [
    "model.wv['human']"
   ]
  },
  {
   "cell_type": "markdown",
   "metadata": {},
   "source": [
    "### Checkout the most similar feature"
   ]
  },
  {
   "cell_type": "code",
   "execution_count": 7,
   "metadata": {},
   "outputs": [
    {
     "data": {
      "text/plain": [
       "[('system', 0.908109724521637),\n",
       " ('eps', 0.886881947517395),\n",
       " ('response', 0.6286922097206116),\n",
       " ('user', 0.38861846923828125),\n",
       " ('minors', 0.24753454327583313),\n",
       " ('time', 0.06086184084415436),\n",
       " ('survey', -0.0791618824005127),\n",
       " ('trees', -0.40337082743644714),\n",
       " ('graph', -0.46148836612701416)]"
      ]
     },
     "execution_count": 7,
     "metadata": {},
     "output_type": "execute_result"
    }
   ],
   "source": [
    "model.wv.most_similar(positive=['computer', 'interface'], negative=['human'])"
   ]
  },
  {
   "cell_type": "markdown",
   "metadata": {},
   "source": [
    "### min_n and max_n parameters"
   ]
  },
  {
   "cell_type": "code",
   "execution_count": 8,
   "metadata": {},
   "outputs": [],
   "source": [
    "model = FastText(size=5, window=3, min_count=1, min_n=1, max_n=5)"
   ]
  },
  {
   "cell_type": "code",
   "execution_count": 9,
   "metadata": {},
   "outputs": [],
   "source": [
    "model.build_vocab(sentences=common_texts)\n",
    "model.train(sentences=common_texts, total_examples=len(common_texts), epochs=10)"
   ]
  },
  {
   "cell_type": "markdown",
   "metadata": {},
   "source": [
    "### Let's try and fetch a representation for an out of vocabulary word"
   ]
  },
  {
   "cell_type": "code",
   "execution_count": 10,
   "metadata": {},
   "outputs": [
    {
     "data": {
      "text/plain": [
       "array([-0.01671136, -0.01868909, -0.03945312, -0.01389101, -0.0250267 ],\n",
       "      dtype=float32)"
      ]
     },
     "execution_count": 10,
     "metadata": {},
     "output_type": "execute_result"
    }
   ],
   "source": [
    "model.wv['rubber']"
   ]
  },
  {
   "cell_type": "markdown",
   "metadata": {},
   "source": [
    "### Checkout the most similar feature using an Out of Vocab term"
   ]
  },
  {
   "cell_type": "code",
   "execution_count": 11,
   "metadata": {},
   "outputs": [
    {
     "data": {
      "text/plain": [
       "[('time', 0.5615436434745789),\n",
       " ('system', 0.4772699475288391),\n",
       " ('minors', 0.3850055932998657),\n",
       " ('eps', 0.15983597934246063),\n",
       " ('user', -0.2565014064311981),\n",
       " ('graph', -0.411243200302124),\n",
       " ('response', -0.4405473470687866),\n",
       " ('trees', -0.6079868078231812),\n",
       " ('interface', -0.6381739377975464),\n",
       " ('survey', -0.8393087387084961)]"
      ]
     },
     "execution_count": 11,
     "metadata": {},
     "output_type": "execute_result"
    }
   ],
   "source": [
    "model.wv.most_similar(positive=['computer', 'human'], negative=['rubber'])"
   ]
  },
  {
   "cell_type": "markdown",
   "metadata": {},
   "source": [
    "### Extending the built model to incorporate words from new sentences"
   ]
  },
  {
   "cell_type": "code",
   "execution_count": 12,
   "metadata": {},
   "outputs": [],
   "source": [
    "sentences_to_be_added = [[\"I\", \"am\", \"learning\", \"Natural\", \"Language\", \"Processing\"],\n",
    "                         [\"Natural\", \"Language\", \"Processing\", \"is\", \"cool\"]]"
   ]
  },
  {
   "cell_type": "code",
   "execution_count": 13,
   "metadata": {},
   "outputs": [],
   "source": [
    "model.build_vocab(sentences_to_be_added, update=True)\n",
    "model.train(sentences=common_texts, total_examples=len(sentences_to_be_added), epochs=10)"
   ]
  },
  {
   "cell_type": "code",
   "execution_count": 14,
   "metadata": {},
   "outputs": [
    {
     "data": {
      "text/plain": [
       "{'human': <gensim.models.keyedvectors.Vocab at 0x1103db908>,\n",
       " 'interface': <gensim.models.keyedvectors.Vocab at 0x1274cbcf8>,\n",
       " 'computer': <gensim.models.keyedvectors.Vocab at 0x1274cb9e8>,\n",
       " 'survey': <gensim.models.keyedvectors.Vocab at 0x1274cba20>,\n",
       " 'user': <gensim.models.keyedvectors.Vocab at 0x1274cba58>,\n",
       " 'system': <gensim.models.keyedvectors.Vocab at 0x1274cba90>,\n",
       " 'response': <gensim.models.keyedvectors.Vocab at 0x1274cbac8>,\n",
       " 'time': <gensim.models.keyedvectors.Vocab at 0x1274cbdd8>,\n",
       " 'eps': <gensim.models.keyedvectors.Vocab at 0x1274cbcc0>,\n",
       " 'trees': <gensim.models.keyedvectors.Vocab at 0x1274cbe10>,\n",
       " 'graph': <gensim.models.keyedvectors.Vocab at 0x1274cbb38>,\n",
       " 'minors': <gensim.models.keyedvectors.Vocab at 0x1274cbef0>,\n",
       " 'I': <gensim.models.keyedvectors.Vocab at 0x1274cb320>,\n",
       " 'am': <gensim.models.keyedvectors.Vocab at 0x1274cb240>,\n",
       " 'learning': <gensim.models.keyedvectors.Vocab at 0x1274cb2b0>,\n",
       " 'Natural': <gensim.models.keyedvectors.Vocab at 0x1274cbf28>,\n",
       " 'Language': <gensim.models.keyedvectors.Vocab at 0x1274cbbe0>,\n",
       " 'Processing': <gensim.models.keyedvectors.Vocab at 0x1274cb5c0>,\n",
       " 'is': <gensim.models.keyedvectors.Vocab at 0x1274cb550>,\n",
       " 'cool': <gensim.models.keyedvectors.Vocab at 0x1274cbc88>}"
      ]
     },
     "execution_count": 14,
     "metadata": {},
     "output_type": "execute_result"
    }
   ],
   "source": [
    "model.wv.vocab"
   ]
  }
 ],
 "metadata": {
  "kernelspec": {
   "display_name": "Python 3",
   "language": "python",
   "name": "python3"
  },
  "language_info": {
   "codemirror_mode": {
    "name": "ipython",
    "version": 3
   },
   "file_extension": ".py",
   "mimetype": "text/x-python",
   "name": "python",
   "nbconvert_exporter": "python",
   "pygments_lexer": "ipython3",
   "version": "3.6.0"
  }
 },
 "nbformat": 4,
 "nbformat_minor": 2
}
