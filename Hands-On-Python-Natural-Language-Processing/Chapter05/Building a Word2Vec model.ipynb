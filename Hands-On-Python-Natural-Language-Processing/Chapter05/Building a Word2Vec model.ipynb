{
 "cells": [
  {
   "cell_type": "markdown",
   "metadata": {},
   "source": [
    "# Building Word2Vec models from scratch"
   ]
  },
  {
   "cell_type": "markdown",
   "metadata": {},
   "source": [
    "### Importing the Word2Vec module from Gensim"
   ]
  },
  {
   "cell_type": "code",
   "execution_count": 1,
   "metadata": {},
   "outputs": [],
   "source": [
    "from gensim.models import Word2Vec"
   ]
  },
  {
   "cell_type": "markdown",
   "metadata": {},
   "source": [
    "### Defining a text corpus"
   ]
  },
  {
   "cell_type": "code",
   "execution_count": 2,
   "metadata": {},
   "outputs": [],
   "source": [
    "sentences = [[\"I\", \"am\", \"trying\", \"to\", \"understand\", \"Natural\", \"Language\", \"Processing\"],\n",
    "             [\"Natural\", \"Language\", \"Processing\", \"is\", \"fun\", \"to\", \"learn\"],\n",
    "             [\"There\", \"are\", \"numerous\", \"use\", \"cases\", \"of\", \"Natural\", \"Language\", \"Processing\"]]"
   ]
  },
  {
   "cell_type": "markdown",
   "metadata": {},
   "source": [
    "### Building a basic Word2Vec model"
   ]
  },
  {
   "cell_type": "code",
   "execution_count": 3,
   "metadata": {},
   "outputs": [],
   "source": [
    "model = Word2Vec(sentences, min_count=1)"
   ]
  },
  {
   "cell_type": "markdown",
   "metadata": {},
   "source": [
    "### Visualizing the embeddings for the word \"Natural\""
   ]
  },
  {
   "cell_type": "code",
   "execution_count": 4,
   "metadata": {},
   "outputs": [
    {
     "data": {
      "text/plain": [
       "array([-1.1506568e-03,  2.3529895e-03,  4.5520775e-03, -3.0040720e-03,\n",
       "       -8.5354433e-04, -4.7675124e-04, -2.0673673e-03, -3.0746455e-03,\n",
       "       -1.9341263e-03, -4.3878607e-03, -8.3469070e-04,  1.4558269e-03,\n",
       "        2.7519549e-04, -4.3559028e-03,  2.3670145e-03,  2.0943601e-03,\n",
       "       -3.8913325e-03, -6.1548827e-04, -4.6169399e-03,  9.4052072e-04,\n",
       "       -3.4304196e-04, -3.4094250e-04,  2.9447235e-03,  4.3063508e-03,\n",
       "       -3.7732773e-04, -2.2485292e-04,  1.6115705e-03,  1.2149011e-03,\n",
       "       -4.8515568e-03,  4.7764364e-03, -2.5412594e-03,  3.3789561e-03,\n",
       "        1.4883940e-03,  1.5283572e-03,  1.4682902e-03, -3.5080998e-03,\n",
       "        3.9456845e-03,  7.0160354e-04, -4.1346089e-03,  4.0484671e-04,\n",
       "       -1.1999794e-04,  4.8559154e-03,  2.0889365e-03,  4.5922971e-03,\n",
       "        2.0818750e-03,  2.4181246e-04,  6.7220608e-05, -1.0669195e-03,\n",
       "       -3.9796722e-03,  3.9165807e-03, -3.3378431e-03, -2.7101892e-03,\n",
       "        1.1821726e-03, -4.4203321e-03,  3.9127376e-04,  3.1629119e-03,\n",
       "        3.1419564e-03, -1.1445767e-03, -5.0256919e-04,  2.0261134e-03,\n",
       "       -2.8566541e-03,  4.3514264e-03, -2.8019003e-03, -3.1694924e-03,\n",
       "        4.4923550e-03,  1.5825535e-03, -2.9022908e-03,  3.9848939e-05,\n",
       "       -3.0978946e-03,  4.6418011e-03,  3.0523275e-03, -2.0519006e-03,\n",
       "       -1.3752988e-03,  3.0611716e-03,  3.2818292e-03,  1.7694674e-03,\n",
       "       -2.9714722e-03, -1.4033409e-04,  1.8401644e-03,  9.4569643e-04,\n",
       "       -4.9757399e-03, -2.6064523e-04,  3.8062895e-03,  4.9500139e-03,\n",
       "       -1.3616962e-03,  3.1226748e-03, -1.3227320e-03, -5.6744867e-04,\n",
       "        1.0705497e-03, -1.9223455e-03,  2.1799409e-03, -1.7782791e-03,\n",
       "        3.7359146e-03, -2.3889376e-03,  2.1341636e-03,  3.3916843e-03,\n",
       "        2.8892893e-03, -4.8813247e-03,  2.2084349e-04,  2.1003674e-04],\n",
       "      dtype=float32)"
      ]
     },
     "execution_count": 4,
     "metadata": {},
     "output_type": "execute_result"
    }
   ],
   "source": [
    "model.wv[\"Natural\"]"
   ]
  },
  {
   "cell_type": "markdown",
   "metadata": {},
   "source": [
    "### Size of each word vector"
   ]
  },
  {
   "cell_type": "code",
   "execution_count": 5,
   "metadata": {},
   "outputs": [
    {
     "data": {
      "text/plain": [
       "100"
      ]
     },
     "execution_count": 5,
     "metadata": {},
     "output_type": "execute_result"
    }
   ],
   "source": [
    "model.vector_size"
   ]
  },
  {
   "cell_type": "markdown",
   "metadata": {},
   "source": [
    "### Size of the vocabulary"
   ]
  },
  {
   "cell_type": "code",
   "execution_count": 6,
   "metadata": {},
   "outputs": [
    {
     "data": {
      "text/plain": [
       "17"
      ]
     },
     "execution_count": 6,
     "metadata": {},
     "output_type": "execute_result"
    }
   ],
   "source": [
    "len(model.wv.vocab)"
   ]
  },
  {
   "cell_type": "markdown",
   "metadata": {},
   "source": [
    "### Building a 2nd Word2Vec model restricting the vocabulary using min_count"
   ]
  },
  {
   "cell_type": "code",
   "execution_count": 7,
   "metadata": {},
   "outputs": [],
   "source": [
    "model = Word2Vec(sentences, min_count=2)"
   ]
  },
  {
   "cell_type": "markdown",
   "metadata": {},
   "source": [
    "### Visualizing the embeddings for the word \"Natural\""
   ]
  },
  {
   "cell_type": "code",
   "execution_count": 8,
   "metadata": {},
   "outputs": [
    {
     "data": {
      "text/plain": [
       "array([-1.1506568e-03,  2.3529895e-03,  4.5520775e-03, -3.0040720e-03,\n",
       "       -8.5354433e-04, -4.7675124e-04, -2.0673673e-03, -3.0746455e-03,\n",
       "       -1.9341263e-03, -4.3878607e-03, -8.3469070e-04,  1.4558269e-03,\n",
       "        2.7519549e-04, -4.3559028e-03,  2.3670145e-03,  2.0943601e-03,\n",
       "       -3.8913325e-03, -6.1548827e-04, -4.6169399e-03,  9.4052072e-04,\n",
       "       -3.4304196e-04, -3.4094250e-04,  2.9447235e-03,  4.3063508e-03,\n",
       "       -3.7732773e-04, -2.2485292e-04,  1.6115705e-03,  1.2149011e-03,\n",
       "       -4.8515568e-03,  4.7764364e-03, -2.5412594e-03,  3.3789561e-03,\n",
       "        1.4883940e-03,  1.5283572e-03,  1.4682902e-03, -3.5080998e-03,\n",
       "        3.9456845e-03,  7.0160354e-04, -4.1346089e-03,  4.0484671e-04,\n",
       "       -1.1999794e-04,  4.8559154e-03,  2.0889365e-03,  4.5922971e-03,\n",
       "        2.0818750e-03,  2.4181246e-04,  6.7220608e-05, -1.0669195e-03,\n",
       "       -3.9796722e-03,  3.9165807e-03, -3.3378431e-03, -2.7101892e-03,\n",
       "        1.1821726e-03, -4.4203321e-03,  3.9127376e-04,  3.1629119e-03,\n",
       "        3.1419564e-03, -1.1445767e-03, -5.0256919e-04,  2.0261134e-03,\n",
       "       -2.8566541e-03,  4.3514264e-03, -2.8019003e-03, -3.1694924e-03,\n",
       "        4.4923550e-03,  1.5825535e-03, -2.9022908e-03,  3.9848939e-05,\n",
       "       -3.0978946e-03,  4.6418011e-03,  3.0523275e-03, -2.0519006e-03,\n",
       "       -1.3752988e-03,  3.0611716e-03,  3.2818292e-03,  1.7694674e-03,\n",
       "       -2.9714722e-03, -1.4033409e-04,  1.8401644e-03,  9.4569643e-04,\n",
       "       -4.9757399e-03, -2.6064523e-04,  3.8062895e-03,  4.9500139e-03,\n",
       "       -1.3616962e-03,  3.1226748e-03, -1.3227320e-03, -5.6744867e-04,\n",
       "        1.0705497e-03, -1.9223455e-03,  2.1799409e-03, -1.7782791e-03,\n",
       "        3.7359146e-03, -2.3889376e-03,  2.1341636e-03,  3.3916843e-03,\n",
       "        2.8892893e-03, -4.8813247e-03,  2.2084349e-04,  2.1003674e-04],\n",
       "      dtype=float32)"
      ]
     },
     "execution_count": 8,
     "metadata": {},
     "output_type": "execute_result"
    }
   ],
   "source": [
    "model.wv[\"Natural\"]"
   ]
  },
  {
   "cell_type": "markdown",
   "metadata": {},
   "source": [
    "### Size of the vocabulary"
   ]
  },
  {
   "cell_type": "code",
   "execution_count": 9,
   "metadata": {},
   "outputs": [
    {
     "data": {
      "text/plain": [
       "4"
      ]
     },
     "execution_count": 9,
     "metadata": {},
     "output_type": "execute_result"
    }
   ],
   "source": [
    "len(model.wv.vocab)"
   ]
  },
  {
   "cell_type": "markdown",
   "metadata": {},
   "source": [
    "### Vocabulary"
   ]
  },
  {
   "cell_type": "code",
   "execution_count": 10,
   "metadata": {},
   "outputs": [
    {
     "data": {
      "text/plain": [
       "{'to': <gensim.models.keyedvectors.Vocab at 0x127591a58>,\n",
       " 'Natural': <gensim.models.keyedvectors.Vocab at 0x127591a90>,\n",
       " 'Language': <gensim.models.keyedvectors.Vocab at 0x127591ac8>,\n",
       " 'Processing': <gensim.models.keyedvectors.Vocab at 0x127591b00>}"
      ]
     },
     "execution_count": 10,
     "metadata": {},
     "output_type": "execute_result"
    }
   ],
   "source": [
    "model.wv.vocab"
   ]
  },
  {
   "cell_type": "markdown",
   "metadata": {},
   "source": [
    "### Size of each word vector"
   ]
  },
  {
   "cell_type": "code",
   "execution_count": 11,
   "metadata": {},
   "outputs": [
    {
     "data": {
      "text/plain": [
       "100"
      ]
     },
     "execution_count": 11,
     "metadata": {},
     "output_type": "execute_result"
    }
   ],
   "source": [
    "model.vector_size"
   ]
  },
  {
   "cell_type": "markdown",
   "metadata": {},
   "source": [
    "### Building a 2nd Word2Vec model restricting the vocabulary using min_count and each vector of size 300"
   ]
  },
  {
   "cell_type": "code",
   "execution_count": 12,
   "metadata": {},
   "outputs": [],
   "source": [
    "model = Word2Vec(sentences, min_count=2, size = 300)"
   ]
  },
  {
   "cell_type": "markdown",
   "metadata": {},
   "source": [
    "### Visualizing the embeddings for the word \"Natural\""
   ]
  },
  {
   "cell_type": "code",
   "execution_count": 13,
   "metadata": {},
   "outputs": [
    {
     "data": {
      "text/plain": [
       "array([-3.83552251e-04,  7.84329837e-04,  1.51735917e-03, -1.00135733e-03,\n",
       "       -2.84514768e-04, -1.58917072e-04, -6.89122418e-04, -1.02488184e-03,\n",
       "       -6.44708751e-04, -1.46262010e-03, -2.78230233e-04,  4.85275639e-04,\n",
       "        9.17318248e-05, -1.45196752e-03,  7.89004902e-04,  6.98120042e-04,\n",
       "       -1.29711081e-03, -2.05162767e-04, -1.53898005e-03,  3.13506898e-04,\n",
       "       -1.14347313e-04, -1.13647504e-04,  9.81574529e-04,  1.43545028e-03,\n",
       "       -1.25775900e-04, -7.49509709e-05,  5.37190179e-04,  4.04967024e-04,\n",
       "       -1.61718554e-03,  1.59214553e-03, -8.47086427e-04,  1.12631870e-03,\n",
       "        4.96131310e-04,  5.09452366e-04,  4.89430095e-04, -1.16936653e-03,\n",
       "        1.31522818e-03,  2.33867846e-04, -1.37820304e-03,  1.34948903e-04,\n",
       "       -3.99993114e-05,  1.61863840e-03,  6.96312229e-04,  1.53076567e-03,\n",
       "        6.93958311e-04,  8.06041498e-05,  2.24068681e-05, -3.55639815e-04,\n",
       "       -1.32655737e-03,  1.30552694e-03, -1.11261441e-03, -9.03396402e-04,\n",
       "        3.94057512e-04, -1.47344416e-03,  1.30424596e-04,  1.05430395e-03,\n",
       "        1.04731880e-03, -3.81525548e-04, -1.67523074e-04,  6.75371150e-04,\n",
       "       -9.52218077e-04,  1.45047554e-03, -9.33966774e-04, -1.05649745e-03,\n",
       "        1.49745168e-03,  5.27517870e-04, -9.67430300e-04,  1.32829791e-05,\n",
       "       -1.03263150e-03,  1.54726696e-03,  1.01744256e-03, -6.83966849e-04,\n",
       "       -4.58432944e-04,  1.02039054e-03,  1.09394302e-03,  5.89822477e-04,\n",
       "       -9.90490778e-04, -4.67780301e-05,  6.13388140e-04,  3.15232144e-04,\n",
       "       -1.65858003e-03, -8.68817515e-05,  1.26876321e-03,  1.65000453e-03,\n",
       "       -4.53898712e-04,  1.04089151e-03, -4.40910662e-04, -1.89149549e-04,\n",
       "        3.56849923e-04, -6.40781829e-04,  7.26646918e-04, -5.92759694e-04,\n",
       "        1.24530483e-03, -7.96312524e-04,  7.11387838e-04,  1.13056146e-03,\n",
       "        9.63096449e-04, -1.62710820e-03,  7.36144939e-05,  7.00122473e-05,\n",
       "       -2.14172178e-04,  2.56872212e-04,  1.01843594e-04,  9.78909899e-04,\n",
       "        5.10782702e-04,  1.32273778e-03, -1.05198578e-03,  3.37925769e-04,\n",
       "       -4.88426303e-04,  4.41674783e-04, -4.41093289e-04, -3.42276791e-04,\n",
       "       -1.14981038e-03, -7.98752822e-04, -1.01191725e-03, -2.14307860e-04,\n",
       "       -1.12382113e-03,  1.41298864e-03,  8.62701214e-04,  1.36348710e-04,\n",
       "        1.48956245e-03, -5.84679874e-05,  9.53862735e-04,  4.39392199e-04,\n",
       "       -1.61853933e-03, -4.31926223e-04, -7.12217239e-04, -1.31132652e-03,\n",
       "       -1.11667172e-03, -5.93348777e-05,  1.25982345e-03,  1.47987201e-04,\n",
       "       -8.41783360e-04,  1.42429175e-03,  4.06930601e-04,  1.60914788e-03,\n",
       "        1.17930723e-03, -9.99569544e-04,  1.21738599e-03, -1.03470485e-03,\n",
       "       -1.01272808e-03,  6.76907133e-04,  1.55061216e-03,  9.42059385e-04,\n",
       "       -7.23001314e-04,  3.96178046e-04, -1.45012722e-03,  1.25664548e-04,\n",
       "        1.60583691e-03, -9.11338837e-04, -1.08405412e-03,  6.27591216e-04,\n",
       "       -1.16495951e-03,  1.34199136e-03, -2.33840692e-04,  1.61667692e-03,\n",
       "       -1.05153257e-03, -8.07364471e-04,  8.77032697e-04,  1.30697095e-03,\n",
       "        9.18270380e-04,  6.25552784e-04,  1.60014734e-03, -9.97689087e-04,\n",
       "        8.00787122e-04,  3.05095600e-04,  1.11411873e-03, -6.84644270e-04,\n",
       "        1.48614781e-04,  1.43983797e-03,  4.31699795e-04,  9.73704620e-04,\n",
       "       -1.56840775e-04, -1.14644959e-03,  3.92269198e-04,  1.56761578e-03,\n",
       "       -1.43942388e-03,  7.47901446e-04, -1.31900690e-03,  1.64589158e-03,\n",
       "       -4.45602273e-05,  9.99433454e-04,  6.42794301e-04, -1.20315279e-04,\n",
       "       -1.07902400e-04, -3.22659238e-04,  2.84144568e-04, -1.16307358e-03,\n",
       "        4.05039027e-04,  4.25135106e-04, -5.17470704e-04,  1.36813102e-03,\n",
       "        2.66450603e-04, -1.49636262e-03, -1.40885497e-03, -7.86300574e-04,\n",
       "        1.25484518e-03, -8.74257763e-04,  1.24628504e-03, -9.85101913e-04,\n",
       "       -1.78598013e-04,  1.24871163e-04,  9.64800769e-04, -1.13805570e-03,\n",
       "        4.73089895e-04,  3.47464316e-04, -8.45146482e-04,  1.36932288e-03,\n",
       "        1.09628588e-03, -1.30272773e-03,  2.97434104e-04, -2.22155541e-05,\n",
       "        4.78136091e-04,  1.07476430e-03, -1.52845087e-03,  1.59576186e-03,\n",
       "        1.34667673e-03,  5.41892601e-04, -1.10684137e-03, -4.97044457e-05,\n",
       "       -1.30541320e-03,  1.40830688e-03,  5.92969358e-04, -1.11674750e-03,\n",
       "       -1.55197445e-03,  7.50981446e-04,  3.85265332e-04,  4.58684779e-04,\n",
       "       -1.50589773e-03,  1.14243187e-03,  9.06463538e-04, -9.55825846e-04,\n",
       "        1.19386101e-03,  1.52214442e-03, -1.26393675e-03,  5.06513054e-04,\n",
       "        3.32602358e-04, -9.10434697e-04, -1.42253889e-03,  1.33662403e-03,\n",
       "        1.27153972e-03,  1.33509026e-03, -5.79670712e-04, -5.19869151e-04,\n",
       "        1.10721879e-03,  8.22204922e-04, -6.69333967e-04, -1.52813780e-04,\n",
       "        4.99425689e-04, -3.98247677e-04, -1.31472305e-03, -1.35005196e-03,\n",
       "       -1.71564330e-04,  1.27887086e-03, -1.28304854e-03, -5.56779793e-04,\n",
       "        7.22512661e-04,  1.61076500e-03, -7.90201535e-04, -1.58962095e-03,\n",
       "        8.95579229e-04, -1.67421837e-04,  1.28785172e-03,  9.89852473e-04,\n",
       "        1.63530011e-03, -1.51591760e-03, -1.57191756e-03, -6.99068696e-05,\n",
       "        1.06826657e-03,  1.46419660e-03, -1.61998661e-03,  6.13221840e-04,\n",
       "        1.00945402e-03,  5.39087632e-04, -5.18910761e-04, -9.84989456e-04,\n",
       "       -6.52112940e-05, -8.89113871e-04,  6.15577563e-04,  1.21308339e-03,\n",
       "        1.01105287e-03,  1.05351082e-03,  5.06537501e-04, -4.40156524e-04,\n",
       "        1.45913917e-03,  1.42424763e-03,  1.36728355e-04, -1.24193658e-03,\n",
       "        1.31816766e-03, -4.37274895e-04,  1.29319041e-03, -1.09882222e-03,\n",
       "        1.17312267e-03,  6.83940772e-04, -1.22335227e-03,  2.96418963e-04,\n",
       "       -7.98164867e-04,  4.13256377e-04, -1.06246839e-03, -7.19354895e-04],\n",
       "      dtype=float32)"
      ]
     },
     "execution_count": 13,
     "metadata": {},
     "output_type": "execute_result"
    }
   ],
   "source": [
    "model.wv[\"Natural\"]"
   ]
  },
  {
   "cell_type": "markdown",
   "metadata": {},
   "source": [
    "### Size of the vocabulary"
   ]
  },
  {
   "cell_type": "code",
   "execution_count": 14,
   "metadata": {},
   "outputs": [
    {
     "data": {
      "text/plain": [
       "4"
      ]
     },
     "execution_count": 14,
     "metadata": {},
     "output_type": "execute_result"
    }
   ],
   "source": [
    "len(model.wv.vocab)"
   ]
  },
  {
   "cell_type": "markdown",
   "metadata": {},
   "source": [
    "### Size of each word vector"
   ]
  },
  {
   "cell_type": "code",
   "execution_count": 15,
   "metadata": {},
   "outputs": [
    {
     "data": {
      "text/plain": [
       "300"
      ]
     },
     "execution_count": 15,
     "metadata": {},
     "output_type": "execute_result"
    }
   ],
   "source": [
    "model.vector_size"
   ]
  },
  {
   "cell_type": "markdown",
   "metadata": {},
   "source": [
    "### Building a 4th Word2Vec model using 2 worker threads, skipgram approach and negative sampling"
   ]
  },
  {
   "cell_type": "code",
   "execution_count": 16,
   "metadata": {},
   "outputs": [],
   "source": [
    "model = Word2Vec(sentences, min_count=1, size = 300, workers = 2, sg = 1, negative = 1)"
   ]
  },
  {
   "cell_type": "markdown",
   "metadata": {},
   "source": [
    "### Size of the vocabulary"
   ]
  },
  {
   "cell_type": "code",
   "execution_count": 17,
   "metadata": {},
   "outputs": [
    {
     "data": {
      "text/plain": [
       "17"
      ]
     },
     "execution_count": 17,
     "metadata": {},
     "output_type": "execute_result"
    }
   ],
   "source": [
    "len(model.wv.vocab)"
   ]
  },
  {
   "cell_type": "markdown",
   "metadata": {},
   "source": [
    "### Vocabulary"
   ]
  },
  {
   "cell_type": "code",
   "execution_count": 18,
   "metadata": {},
   "outputs": [
    {
     "data": {
      "text/plain": [
       "{'I': <gensim.models.keyedvectors.Vocab at 0x1275ab5c0>,\n",
       " 'am': <gensim.models.keyedvectors.Vocab at 0x1275ab588>,\n",
       " 'trying': <gensim.models.keyedvectors.Vocab at 0x1275ab518>,\n",
       " 'to': <gensim.models.keyedvectors.Vocab at 0x1275ab4e0>,\n",
       " 'understand': <gensim.models.keyedvectors.Vocab at 0x1275ab4a8>,\n",
       " 'Natural': <gensim.models.keyedvectors.Vocab at 0x1275ab438>,\n",
       " 'Language': <gensim.models.keyedvectors.Vocab at 0x1275ab400>,\n",
       " 'Processing': <gensim.models.keyedvectors.Vocab at 0x1275ab3c8>,\n",
       " 'is': <gensim.models.keyedvectors.Vocab at 0x1275ab390>,\n",
       " 'fun': <gensim.models.keyedvectors.Vocab at 0x1275ab358>,\n",
       " 'learn': <gensim.models.keyedvectors.Vocab at 0x1275ab2e8>,\n",
       " 'There': <gensim.models.keyedvectors.Vocab at 0x1275ab208>,\n",
       " 'are': <gensim.models.keyedvectors.Vocab at 0x1275ab240>,\n",
       " 'numerous': <gensim.models.keyedvectors.Vocab at 0x1275ab1d0>,\n",
       " 'use': <gensim.models.keyedvectors.Vocab at 0x127591a20>,\n",
       " 'cases': <gensim.models.keyedvectors.Vocab at 0x1275919e8>,\n",
       " 'of': <gensim.models.keyedvectors.Vocab at 0x127591908>}"
      ]
     },
     "execution_count": 18,
     "metadata": {},
     "output_type": "execute_result"
    }
   ],
   "source": [
    "model.wv.vocab"
   ]
  },
  {
   "cell_type": "markdown",
   "metadata": {},
   "source": [
    "### Size of each word vector"
   ]
  },
  {
   "cell_type": "code",
   "execution_count": 19,
   "metadata": {},
   "outputs": [
    {
     "data": {
      "text/plain": [
       "300"
      ]
     },
     "execution_count": 19,
     "metadata": {},
     "output_type": "execute_result"
    }
   ],
   "source": [
    "model.vector_size"
   ]
  }
 ],
 "metadata": {
  "kernelspec": {
   "display_name": "Python 3",
   "language": "python",
   "name": "python3"
  },
  "language_info": {
   "codemirror_mode": {
    "name": "ipython",
    "version": 3
   },
   "file_extension": ".py",
   "mimetype": "text/x-python",
   "name": "python",
   "nbconvert_exporter": "python",
   "pygments_lexer": "ipython3",
   "version": "3.6.0"
  }
 },
 "nbformat": 4,
 "nbformat_minor": 2
}
