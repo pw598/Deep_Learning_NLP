{
 "cells": [
  {
   "cell_type": "code",
   "execution_count": 1,
   "metadata": {},
   "outputs": [
    {
     "name": "stderr",
     "output_type": "stream",
     "text": [
      "/usr/local/lib/python3.5/dist-packages/h5py/__init__.py:36: FutureWarning: Conversion of the second argument of issubdtype from `float` to `np.floating` is deprecated. In future, it will be treated as `np.float64 == np.dtype(float).type`.\n",
      "  from ._conv import register_converters as _register_converters\n",
      "/usr/local/lib/python3.5/dist-packages/sklearn/cross_validation.py:41: DeprecationWarning: This module was deprecated in version 0.18 in favor of the model_selection module into which all the refactored classes and functions are moved. Also note that the interface of the new CV iterators are different from that of this module. This module will be removed in 0.20.\n",
      "  \"This module will be removed in 0.20.\", DeprecationWarning)\n"
     ]
    }
   ],
   "source": [
    "from utils import *\n",
    "import tensorflow as tf\n",
    "from sklearn.cross_validation import train_test_split\n",
    "import time"
   ]
  },
  {
   "cell_type": "code",
   "execution_count": 2,
   "metadata": {},
   "outputs": [
    {
     "name": "stdout",
     "output_type": "stream",
     "text": [
      "['negative', 'positive']\n",
      "10662\n",
      "10662\n"
     ]
    }
   ],
   "source": [
    "trainset = sklearn.datasets.load_files(container_path = 'data', encoding = 'UTF-8')\n",
    "trainset.data, trainset.target = separate_dataset(trainset,1.0)\n",
    "print (trainset.target_names)\n",
    "print (len(trainset.data))\n",
    "print (len(trainset.target))"
   ]
  },
  {
   "cell_type": "code",
   "execution_count": 3,
   "metadata": {},
   "outputs": [],
   "source": [
    "ONEHOT = np.zeros((len(trainset.data),len(trainset.target_names)))\n",
    "ONEHOT[np.arange(len(trainset.data)),trainset.target] = 1.0\n",
    "train_X, test_X, train_Y, test_Y, train_onehot, test_onehot = train_test_split(trainset.data, \n",
    "                                                                               trainset.target, \n",
    "                                                                               ONEHOT, test_size = 0.2)"
   ]
  },
  {
   "cell_type": "code",
   "execution_count": 4,
   "metadata": {},
   "outputs": [
    {
     "name": "stdout",
     "output_type": "stream",
     "text": [
      "vocab from size: 20465\n",
      "Most common words [('the', 10129), ('a', 7312), ('and', 6199), ('of', 6063), ('to', 4233), ('is', 3378)]\n",
      "Sample data [4, 670, 9, 2616, 8, 22, 4, 3701, 15300, 98] ['the', 'rock', 'is', 'destined', 'to', 'be', 'the', '21st', 'centurys', 'new']\n"
     ]
    }
   ],
   "source": [
    "concat = ' '.join(trainset.data).split()\n",
    "vocabulary_size = len(list(set(concat)))\n",
    "data, count, dictionary, rev_dictionary = build_dataset(concat, vocabulary_size)\n",
    "print('vocab from size: %d'%(vocabulary_size))\n",
    "print('Most common words', count[4:10])\n",
    "print('Sample data', data[:10], [rev_dictionary[i] for i in data[:10]])"
   ]
  },
  {
   "cell_type": "code",
   "execution_count": 5,
   "metadata": {},
   "outputs": [],
   "source": [
    "GO = dictionary['GO']\n",
    "PAD = dictionary['PAD']\n",
    "EOS = dictionary['EOS']\n",
    "UNK = dictionary['UNK']"
   ]
  },
  {
   "cell_type": "code",
   "execution_count": 6,
   "metadata": {},
   "outputs": [],
   "source": [
    "class Model:\n",
    "    def __init__(self, size_layer, num_layers, embedded_size,\n",
    "                 dict_size, dimension_output, learning_rate,\n",
    "                filter_sizes, pooling_size):\n",
    "        \n",
    "        def cells(reuse=False):\n",
    "            return tf.nn.rnn_cell.LSTMCell(size_layer,initializer=tf.orthogonal_initializer(),reuse=reuse)\n",
    "        \n",
    "        self.X = tf.placeholder(tf.int32, [None, None])\n",
    "        self.Y = tf.placeholder(tf.float32, [None, dimension_output])\n",
    "        encoder_embeddings = tf.Variable(tf.random_uniform([dict_size, embedded_size], -1, 1))\n",
    "        encoder_embedded = tf.nn.embedding_lookup(encoder_embeddings, self.X)\n",
    "        encoder_embedded = tf.expand_dims(encoder_embedded,-1)\n",
    "        \n",
    "        pooled_outputs = []\n",
    "        reduce_size = int(np.ceil(maxlen / pooling_size))\n",
    "        for i in filter_sizes:\n",
    "            w = tf.Variable(tf.truncated_normal([i, embedded_size, 1, dimension_output], stddev=0.1))\n",
    "            b = tf.Variable(tf.truncated_normal([dimension_output], stddev = 0.01))\n",
    "            conv = tf.nn.relu(tf.nn.conv2d(encoder_embedded, w, strides=[1, 1, 1, 1],padding=\"VALID\") + b)\n",
    "            pooled = tf.nn.max_pool(conv,ksize=[1, pooling_size, 1, 1],\n",
    "                                    strides=[1, pooling_size, 1, 1],padding='VALID')\n",
    "            pooled = tf.reshape(pooled, [-1, reduce_size -1, dimension_output])\n",
    "            pooled_outputs.append(pooled)\n",
    "        h_pool = tf.concat(pooled_outputs, 2)\n",
    "        \n",
    "        rnn_cells = tf.nn.rnn_cell.MultiRNNCell([cells() for _ in range(num_layers)])\n",
    "        outputs, _ = tf.nn.dynamic_rnn(rnn_cells, h_pool, dtype = tf.float32)\n",
    "        W = tf.get_variable('w',shape=(size_layer, dimension_output),initializer=tf.orthogonal_initializer())\n",
    "        b = tf.get_variable('b',shape=(dimension_output),initializer=tf.zeros_initializer())\n",
    "        self.logits = tf.matmul(outputs[:, -1], W) + b\n",
    "        self.cost = tf.reduce_mean(tf.nn.softmax_cross_entropy_with_logits(logits = self.logits, labels = self.Y))\n",
    "        self.optimizer = tf.train.AdamOptimizer(learning_rate = learning_rate).minimize(self.cost)\n",
    "        correct_pred = tf.equal(tf.argmax(self.logits, 1), tf.argmax(self.Y, 1))\n",
    "        self.accuracy = tf.reduce_mean(tf.cast(correct_pred, tf.float32))"
   ]
  },
  {
   "cell_type": "code",
   "execution_count": 7,
   "metadata": {},
   "outputs": [],
   "source": [
    "size_layer = 128\n",
    "num_layers = 2\n",
    "embedded_size = 128\n",
    "dimension_output = len(trainset.target_names)\n",
    "learning_rate = 1e-3\n",
    "maxlen = 50\n",
    "batch_size = 128"
   ]
  },
  {
   "cell_type": "code",
   "execution_count": 8,
   "metadata": {},
   "outputs": [],
   "source": [
    "tf.reset_default_graph()\n",
    "sess = tf.InteractiveSession()\n",
    "model = Model(size_layer,num_layers,embedded_size,vocabulary_size+4,dimension_output,learning_rate,\n",
    "             [3, 3, 3], 5)\n",
    "sess.run(tf.global_variables_initializer())"
   ]
  },
  {
   "cell_type": "code",
   "execution_count": 9,
   "metadata": {},
   "outputs": [
    {
     "name": "stdout",
     "output_type": "stream",
     "text": [
      "epoch: 0, pass acc: 0.000000, current acc: 0.536133\n",
      "time taken: 2.140366315841675\n",
      "epoch: 0, training loss: 0.692747, training acc: 0.515270, valid loss: 0.687830, valid acc: 0.536133\n",
      "\n",
      "epoch: 1, pass acc: 0.536133, current acc: 0.592285\n",
      "time taken: 1.4845514297485352\n",
      "epoch: 1, training loss: 0.657143, training acc: 0.614347, valid loss: 0.676604, valid acc: 0.592285\n",
      "\n",
      "epoch: 2, pass acc: 0.592285, current acc: 0.631348\n",
      "time taken: 1.491283893585205\n",
      "epoch: 2, training loss: 0.540661, training acc: 0.727391, valid loss: 0.731910, valid acc: 0.631348\n",
      "\n",
      "epoch: 3, pass acc: 0.631348, current acc: 0.636719\n",
      "time taken: 1.6033940315246582\n",
      "epoch: 3, training loss: 0.395279, training acc: 0.815814, valid loss: 0.914207, valid acc: 0.636719\n",
      "\n",
      "time taken: 1.4940412044525146\n",
      "epoch: 4, training loss: 0.266409, training acc: 0.885298, valid loss: 1.156343, valid acc: 0.634277\n",
      "\n",
      "time taken: 1.4927210807800293\n",
      "epoch: 5, training loss: 0.172179, training acc: 0.925900, valid loss: 1.281949, valid acc: 0.631836\n",
      "\n",
      "epoch: 6, pass acc: 0.636719, current acc: 0.639648\n",
      "time taken: 1.4941177368164062\n",
      "epoch: 6, training loss: 0.123734, training acc: 0.946141, valid loss: 1.431545, valid acc: 0.639648\n",
      "\n",
      "time taken: 1.483259677886963\n",
      "epoch: 7, training loss: 0.110490, training acc: 0.948390, valid loss: 1.732726, valid acc: 0.622559\n",
      "\n",
      "time taken: 1.606614589691162\n",
      "epoch: 8, training loss: 0.094371, training acc: 0.957031, valid loss: 1.507472, valid acc: 0.636719\n",
      "\n",
      "time taken: 1.4891266822814941\n",
      "epoch: 9, training loss: 0.060130, training acc: 0.969934, valid loss: 2.026900, valid acc: 0.634277\n",
      "\n",
      "epoch: 10, pass acc: 0.639648, current acc: 0.640137\n",
      "time taken: 1.4885523319244385\n",
      "epoch: 10, training loss: 0.046308, training acc: 0.975497, valid loss: 2.298523, valid acc: 0.640137\n",
      "\n",
      "time taken: 1.536653757095337\n",
      "epoch: 11, training loss: 0.039984, training acc: 0.978338, valid loss: 2.474765, valid acc: 0.639160\n",
      "\n",
      "time taken: 1.6493055820465088\n",
      "epoch: 12, training loss: 0.035039, training acc: 0.979640, valid loss: 2.706079, valid acc: 0.639648\n",
      "\n",
      "time taken: 3.2361233234405518\n",
      "epoch: 13, training loss: 0.031757, training acc: 0.981652, valid loss: 2.976552, valid acc: 0.637207\n",
      "\n",
      "epoch: 14, pass acc: 0.640137, current acc: 0.644043\n",
      "time taken: 4.434499025344849\n",
      "epoch: 14, training loss: 0.029374, training acc: 0.982481, valid loss: 3.071075, valid acc: 0.644043\n",
      "\n",
      "time taken: 4.43494987487793\n",
      "epoch: 15, training loss: 0.027951, training acc: 0.982955, valid loss: 3.132464, valid acc: 0.642578\n",
      "\n",
      "time taken: 4.507896661758423\n",
      "epoch: 16, training loss: 0.026903, training acc: 0.983665, valid loss: 3.277111, valid acc: 0.640625\n",
      "\n",
      "time taken: 4.381775856018066\n",
      "epoch: 17, training loss: 0.026236, training acc: 0.983665, valid loss: 3.383226, valid acc: 0.636719\n",
      "\n",
      "time taken: 4.575257778167725\n",
      "epoch: 18, training loss: 0.035578, training acc: 0.980350, valid loss: 2.486259, valid acc: 0.641602\n",
      "\n",
      "time taken: 4.428490877151489\n",
      "epoch: 19, training loss: 0.051344, training acc: 0.971591, valid loss: 1.915845, valid acc: 0.642090\n",
      "\n",
      "break epoch:20\n",
      "\n"
     ]
    }
   ],
   "source": [
    "EARLY_STOPPING, CURRENT_CHECKPOINT, CURRENT_ACC, EPOCH = 5, 0, 0, 0\n",
    "while True:\n",
    "    lasttime = time.time()\n",
    "    if CURRENT_CHECKPOINT == EARLY_STOPPING:\n",
    "        print('break epoch:%d\\n'%(EPOCH))\n",
    "        break\n",
    "        \n",
    "    train_acc, train_loss, test_acc, test_loss = 0, 0, 0, 0\n",
    "    for i in range(0, (len(train_X) // batch_size) * batch_size, batch_size):\n",
    "        batch_x = str_idx(train_X[i:i+batch_size],dictionary,maxlen)\n",
    "        acc, loss, _ = sess.run([model.accuracy, model.cost, model.optimizer], \n",
    "                           feed_dict = {model.X : batch_x, model.Y : train_onehot[i:i+batch_size]})\n",
    "        train_loss += loss\n",
    "        train_acc += acc\n",
    "    \n",
    "    for i in range(0, (len(test_X) // batch_size) * batch_size, batch_size):\n",
    "        batch_x = str_idx(test_X[i:i+batch_size],dictionary,maxlen)\n",
    "        acc, loss = sess.run([model.accuracy, model.cost], \n",
    "                           feed_dict = {model.X : batch_x, model.Y : test_onehot[i:i+batch_size]})\n",
    "        test_loss += loss\n",
    "        test_acc += acc\n",
    "    \n",
    "    train_loss /= (len(train_X) // batch_size)\n",
    "    train_acc /= (len(train_X) // batch_size)\n",
    "    test_loss /= (len(test_X) // batch_size)\n",
    "    test_acc /= (len(test_X) // batch_size)\n",
    "    \n",
    "    if test_acc > CURRENT_ACC:\n",
    "        print('epoch: %d, pass acc: %f, current acc: %f'%(EPOCH,CURRENT_ACC, test_acc))\n",
    "        CURRENT_ACC = test_acc\n",
    "        CURRENT_CHECKPOINT = 0\n",
    "    else:\n",
    "        CURRENT_CHECKPOINT += 1\n",
    "        \n",
    "    print('time taken:', time.time()-lasttime)\n",
    "    print('epoch: %d, training loss: %f, training acc: %f, valid loss: %f, valid acc: %f\\n'%(EPOCH,train_loss,\n",
    "                                                                                          train_acc,test_loss,\n",
    "                                                                                          test_acc))\n",
    "    EPOCH += 1"
   ]
  },
  {
   "cell_type": "code",
   "execution_count": 10,
   "metadata": {},
   "outputs": [
    {
     "name": "stdout",
     "output_type": "stream",
     "text": [
      "             precision    recall  f1-score   support\n",
      "\n",
      "   negative       0.65      0.61      0.63      1053\n",
      "   positive       0.64      0.68      0.66      1080\n",
      "\n",
      "avg / total       0.65      0.65      0.65      2133\n",
      "\n"
     ]
    }
   ],
   "source": [
    "logits = sess.run(model.logits, feed_dict={model.X:str_idx(test_X,dictionary,maxlen)})\n",
    "print(metrics.classification_report(test_Y, np.argmax(logits,1), target_names = trainset.target_names))"
   ]
  },
  {
   "cell_type": "code",
   "execution_count": null,
   "metadata": {},
   "outputs": [],
   "source": []
  }
 ],
 "metadata": {
  "kernelspec": {
   "display_name": "Python 3",
   "language": "python",
   "name": "python3"
  },
  "language_info": {
   "codemirror_mode": {
    "name": "ipython",
    "version": 3
   },
   "file_extension": ".py",
   "mimetype": "text/x-python",
   "name": "python",
   "nbconvert_exporter": "python",
   "pygments_lexer": "ipython3",
   "version": "3.5.2"
  }
 },
 "nbformat": 4,
 "nbformat_minor": 2
}
